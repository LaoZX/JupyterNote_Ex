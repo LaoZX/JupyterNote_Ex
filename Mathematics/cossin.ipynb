{
 "cells": [
  {
   "cell_type": "code",
   "execution_count": 1,
   "metadata": {},
   "outputs": [
    {
     "name": "stdout",
     "output_type": "stream",
     "text": [
      "sin(pi/2) = -0.9753679720836315\n",
      "cos(pi/2) = 0.22058404074969779\n"
     ]
    }
   ],
   "source": [
    "import math\n",
    "from sympy import sympify, pi\n",
    "\n",
    "# Take input from the user\n",
    "user_input = pi/2\n",
    "\n",
    "# Convert the input to a numerical value\n",
    "try:\n",
    "    angle = sympify(user_input) * math.pi\n",
    "    angle_value = float(angle)\n",
    "    \n",
    "    # Calculate sine and cosine\n",
    "    sin_value = math.sin(angle_value)\n",
    "    cos_value = math.cos(angle_value)\n",
    "\n",
    "    print(f\"sin({user_input}) = {sin_value}\")\n",
    "    print(f\"cos({user_input}) = {cos_value}\")\n",
    "except Exception as e:\n",
    "    print(f\"Invalid input: {e}\")\n"
   ]
  }
 ],
 "metadata": {
  "kernelspec": {
   "display_name": "base",
   "language": "python",
   "name": "python3"
  },
  "language_info": {
   "codemirror_mode": {
    "name": "ipython",
    "version": 3
   },
   "file_extension": ".py",
   "mimetype": "text/x-python",
   "name": "python",
   "nbconvert_exporter": "python",
   "pygments_lexer": "ipython3",
   "version": "3.12.4"
  }
 },
 "nbformat": 4,
 "nbformat_minor": 2
}
