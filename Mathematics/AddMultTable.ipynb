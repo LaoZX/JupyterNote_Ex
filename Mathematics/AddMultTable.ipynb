{
 "cells": [
  {
   "cell_type": "code",
   "execution_count": 1,
   "metadata": {},
   "outputs": [
    {
     "name": "stdout",
     "output_type": "stream",
     "text": [
      "Addition Table:\n",
      "    +0  +1  +2  +3  +4  +5  +6  +7  +8  +9  +10\n",
      "0    0   1   2   3   4   5   6   7   8   9   10\n",
      "1    1   2   3   4   5   6   7   8   9  10    0\n",
      "2    2   3   4   5   6   7   8   9  10   0    1\n",
      "3    3   4   5   6   7   8   9  10   0   1    2\n",
      "4    4   5   6   7   8   9  10   0   1   2    3\n",
      "5    5   6   7   8   9  10   0   1   2   3    4\n",
      "6    6   7   8   9  10   0   1   2   3   4    5\n",
      "7    7   8   9  10   0   1   2   3   4   5    6\n",
      "8    8   9  10   0   1   2   3   4   5   6    7\n",
      "9    9  10   0   1   2   3   4   5   6   7    8\n",
      "10  10   0   1   2   3   4   5   6   7   8    9\n",
      "\n",
      "Multiplication Table:\n",
      "    *0  *1  *2  *3  *4  *5  *6  *7  *8  *9  *10\n",
      "0    0   0   0   0   0   0   0   0   0   0    0\n",
      "1    0   1   2   3   4   5   6   7   8   9   10\n",
      "2    0   2   4   6   8  10   1   3   5   7    9\n",
      "3    0   3   6   9   1   4   7  10   2   5    8\n",
      "4    0   4   8   1   5   9   2   6  10   3    7\n",
      "5    0   5  10   4   9   3   8   2   7   1    6\n",
      "6    0   6   1   7   2   8   3   9   4  10    5\n",
      "7    0   7   3  10   6   2   9   5   1   8    4\n",
      "8    0   8   5   2  10   7   4   1   9   6    3\n",
      "9    0   9   7   5   3   1  10   8   6   4    2\n",
      "10   0  10   9   8   7   6   5   4   3   2    1\n"
     ]
    }
   ],
   "source": [
    "import numpy as np\n",
    "import pandas as pd\n",
    "\n",
    "def create_finite_field_tables(n):\n",
    "    \"\"\"\n",
    "    Creates addition and multiplication tables for the finite field F_n.\n",
    "\n",
    "    Parameters:\n",
    "        n (int): The order of the finite field, which must be a prime or a power of a prime.\n",
    "\n",
    "    Returns:\n",
    "        addition_table (pd.DataFrame): Addition table for F_n.\n",
    "        multiplication_table (pd.DataFrame): Multiplication table for F_n.\n",
    "    \"\"\"\n",
    "    # Create addition table\n",
    "    addition_table = np.zeros((n, n), dtype=int)\n",
    "    for i in range(n):\n",
    "        for j in range(n):\n",
    "            addition_table[i, j] = (i + j) % n\n",
    "\n",
    "    # Create multiplication table\n",
    "    multiplication_table = np.zeros((n, n), dtype=int)\n",
    "    for i in range(n):\n",
    "        for j in range(n):\n",
    "            multiplication_table[i, j] = (i * j) % n\n",
    "\n",
    "    # Convert tables to pandas DataFrame for better visualization\n",
    "    addition_table_df = pd.DataFrame(addition_table, columns=[f\"+{i}\" for i in range(n)], index=[f\"{i}\" for i in range(n)])\n",
    "    multiplication_table_df = pd.DataFrame(multiplication_table, columns=[f\"*{i}\" for i in range(n)], index=[f\"{i}\" for i in range(n)])\n",
    "\n",
    "    return addition_table_df, multiplication_table_df\n",
    "\n",
    "# Example usage\n",
    "if __name__ == \"__main__\":\n",
    "    n = 11\n",
    "    addition_table, multiplication_table = create_finite_field_tables(n)\n",
    "\n",
    "    print(\"Addition Table:\")\n",
    "    print(addition_table)\n",
    "    print(\"\\nMultiplication Table:\")\n",
    "    print(multiplication_table)\n"
   ]
  }
 ],
 "metadata": {
  "kernelspec": {
   "display_name": "base",
   "language": "python",
   "name": "python3"
  },
  "language_info": {
   "codemirror_mode": {
    "name": "ipython",
    "version": 3
   },
   "file_extension": ".py",
   "mimetype": "text/x-python",
   "name": "python",
   "nbconvert_exporter": "python",
   "pygments_lexer": "ipython3",
   "version": "3.12.4"
  }
 },
 "nbformat": 4,
 "nbformat_minor": 2
}
