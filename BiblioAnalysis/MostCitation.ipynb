{
 "cells": [
  {
   "cell_type": "code",
   "execution_count": 1,
   "metadata": {},
   "outputs": [],
   "source": [
    "import pandas as pd\n",
    "\n",
    "# Load the CSV file\n",
    "df = pd.read_csv('biblio/scopus1837.csv')\n",
    "\n",
    "# Ensure the column containing citations is correctly named\n",
    "if 'Cited by' not in df.columns:\n",
    "    print(\"Column 'Cited by' not found in the file.\")\n",
    "else:\n",
    "    # Convert citation counts to numeric (in case they are strings)\n",
    "    df['Cited by'] = pd.to_numeric(df['Cited by'], errors='coerce')\n",
    "\n",
    "    # Drop rows with NaN citations\n",
    "    df = df.dropna(subset=['Cited by'])\n",
    "\n",
    "    # Sort the dataframe by the 'Citations' column in descending order\n",
    "    sorted_df = df.sort_values(by='Cited by', ascending=False)\n",
    "\n",
    "    # Extract the top 10 most-cited papers\n",
    "    # top_cited = sorted_df.head(20)\n",
    "    \n",
    "    # Display the top 10 papers\n",
    "    #print(\"Top 10 Most-Cited Papers:\")\n",
    "    #print(top_cited[['Title',  'Cited by']])\n",
    "    sorted_df.to_csv('res/cited_result.csv', index=False)\n",
    "\n"
   ]
  }
 ],
 "metadata": {
  "kernelspec": {
   "display_name": "base",
   "language": "python",
   "name": "python3"
  },
  "language_info": {
   "codemirror_mode": {
    "name": "ipython",
    "version": 3
   },
   "file_extension": ".py",
   "mimetype": "text/x-python",
   "name": "python",
   "nbconvert_exporter": "python",
   "pygments_lexer": "ipython3",
   "version": "3.12.4"
  }
 },
 "nbformat": 4,
 "nbformat_minor": 2
}
