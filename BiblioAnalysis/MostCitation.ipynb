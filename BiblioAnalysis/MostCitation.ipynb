{
 "cells": [
  {
   "cell_type": "code",
   "execution_count": 2,
   "metadata": {},
   "outputs": [
    {
     "name": "stdout",
     "output_type": "stream",
     "text": [
      "Top 10 Most-Cited Papers:\n",
      "                                               Title  Cited by\n",
      "2  Systematic review of research on artificial in...      1294\n",
      "5  How learning in an inverted classroom influenc...       975\n",
      "4  How Does ChatGPT Perform on the United States ...       856\n",
      "6  Evolution and Revolution in Artificial Intelli...       404\n",
      "1  The ASSISTments ecosystem: Building a platform...       370\n",
      "3   Individualized bayesian knowledge tracing models       358\n",
      "7  A review of recent advances in learner and ski...       329\n",
      "0  War of the chatbots: Bard, Bing Chat, ChatGPT,...       323\n",
      "8  Conversational agents in health care: Scoping ...       273\n",
      "9  Gaze tutor: A gaze-reactive intelligent tutori...       262\n"
     ]
    }
   ],
   "source": [
    "import pandas as pd\n",
    "\n",
    "# Load the CSV file\n",
    "df = pd.read_csv('lot_key_10.csv')\n",
    "\n",
    "# Ensure the column containing citations is correctly named\n",
    "# Replace 'Citations' with the actual column name in your file\n",
    "if 'Cited by' not in df.columns:\n",
    "    print(\"Column 'Cited by' not found in the file.\")\n",
    "else:\n",
    "    # Convert citation counts to numeric (in case they are strings)\n",
    "    df['Cited by'] = pd.to_numeric(df['Cited by'], errors='coerce')\n",
    "\n",
    "    # Drop rows with NaN citations\n",
    "    df = df.dropna(subset=['Cited by'])\n",
    "\n",
    "    # Sort the dataframe by the 'Citations' column in descending order\n",
    "    sorted_df = df.sort_values(by='Cited by', ascending=False)\n",
    "\n",
    "    # Extract the top 10 most-cited papers\n",
    "    top_10 = sorted_df.head(10)\n",
    "\n",
    "    # Display the top 10 papers\n",
    "    print(\"Top 10 Most-Cited Papers:\")\n",
    "    print(top_10[['Title',  'Cited by']])\n"
   ]
  }
 ],
 "metadata": {
  "kernelspec": {
   "display_name": "base",
   "language": "python",
   "name": "python3"
  },
  "language_info": {
   "codemirror_mode": {
    "name": "ipython",
    "version": 3
   },
   "file_extension": ".py",
   "mimetype": "text/x-python",
   "name": "python",
   "nbconvert_exporter": "python",
   "pygments_lexer": "ipython3",
   "version": "3.12.4"
  }
 },
 "nbformat": 4,
 "nbformat_minor": 2
}
