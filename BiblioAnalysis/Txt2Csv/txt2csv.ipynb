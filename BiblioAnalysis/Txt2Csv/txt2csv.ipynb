{
 "cells": [
  {
   "cell_type": "code",
   "execution_count": 1,
   "metadata": {},
   "outputs": [],
   "source": [
    "import pandas as pd\n",
    "\n",
    "# Read the tab-delimited text file\n",
    "file_path = 'file/source-citation-table.txt'\n",
    "df = pd.read_csv(file_path, sep='\\t')\n",
    "\n",
    "\n",
    "if 'citations' not in df.columns:\n",
    "    print(\"Column 'citations' not found in the file.\")\n",
    "else:\n",
    "    # Convert citations counts to numeric (in case they are strings)\n",
    "    df['citations'] = pd.to_numeric(df['citations'], errors='coerce')\n",
    "\n",
    "    # Drop rows with NaN citations\n",
    "    df = df.dropna(subset=['citations'])\n",
    "\n",
    "    # Sort the dataframe by the 'Citations' column in descending order\n",
    "    sorted_df = df.sort_values(by='citations', ascending=False)\n",
    "\n",
    "    sorted_df.to_csv('res/source-citation-sorted.csv', index=False)\n",
    "    "
   ]
  }
 ],
 "metadata": {
  "kernelspec": {
   "display_name": "base",
   "language": "python",
   "name": "python3"
  },
  "language_info": {
   "codemirror_mode": {
    "name": "ipython",
    "version": 3
   },
   "file_extension": ".py",
   "mimetype": "text/x-python",
   "name": "python",
   "nbconvert_exporter": "python",
   "pygments_lexer": "ipython3",
   "version": "3.12.4"
  }
 },
 "nbformat": 4,
 "nbformat_minor": 2
}
