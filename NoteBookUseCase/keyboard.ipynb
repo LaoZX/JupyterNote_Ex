{
 "cells": [
  {
   "cell_type": "markdown",
   "metadata": {},
   "source": [
    "Enter: edit mode\n",
    "\n",
    "esc: command mode\n",
    "\n",
    "ctrl+enter: run\n",
    "\n",
    "shift+enter: run and create a new cell below\n"
   ]
  },
  {
   "cell_type": "markdown",
   "metadata": {},
   "source": [
    "\n"
   ]
  }
 ],
 "metadata": {
  "language_info": {
   "name": "python"
  }
 },
 "nbformat": 4,
 "nbformat_minor": 2
}
