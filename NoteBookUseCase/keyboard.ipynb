{
 "cells": [
  {
   "cell_type": "markdown",
   "metadata": {},
   "source": [
    "- Enter: enter cell (edit mode)\n",
    "\n",
    "- esc: exit cell (command mode)\n",
    "\n",
    "- ctrl + enter: run\n",
    "\n",
    "- shift + enter: run and create a new cell below\n"
   ]
  },
  {
   "cell_type": "markdown",
   "metadata": {},
   "source": [
    "### in command mode\n",
    "- M: code cell transfer to markdown cell\n",
    "- Y: markdown cell to code cell\n",
    "- A：insert new cell above\n",
    "- B: insert new cell below\n",
    "- D D / Delete: delete selected cell"
   ]
  }
 ],
 "metadata": {
  "language_info": {
   "name": "python"
  }
 },
 "nbformat": 4,
 "nbformat_minor": 2
}
