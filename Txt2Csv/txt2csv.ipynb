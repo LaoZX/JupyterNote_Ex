{
 "cells": [
  {
   "cell_type": "code",
   "execution_count": 2,
   "metadata": {},
   "outputs": [
    {
     "name": "stdout",
     "output_type": "stream",
     "text": [
      "CSV file saved at: file/src_cite_rank.csv\n"
     ]
    }
   ],
   "source": [
    "import pandas as pd\n",
    "\n",
    "# Read the tab-delimited text file\n",
    "file_path = 'file/src_cite_rank.txt'\n",
    "df = pd.read_csv(file_path, sep='\\t')\n",
    "\n",
    "# Save the DataFrame to a CSV file\n",
    "csv_output_path = 'file/src_cite_rank.csv'\n",
    "df.to_csv(csv_output_path, index=False)\n",
    "\n",
    "print(f\"CSV file saved at: {csv_output_path}\")"
   ]
  }
 ],
 "metadata": {
  "kernelspec": {
   "display_name": "base",
   "language": "python",
   "name": "python3"
  },
  "language_info": {
   "codemirror_mode": {
    "name": "ipython",
    "version": 3
   },
   "file_extension": ".py",
   "mimetype": "text/x-python",
   "name": "python",
   "nbconvert_exporter": "python",
   "pygments_lexer": "ipython3",
   "version": "3.12.4"
  }
 },
 "nbformat": 4,
 "nbformat_minor": 2
}
