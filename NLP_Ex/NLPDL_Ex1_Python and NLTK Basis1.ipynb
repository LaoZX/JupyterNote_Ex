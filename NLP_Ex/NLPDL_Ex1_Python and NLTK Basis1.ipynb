{
  "nbformat": 4,
  "nbformat_minor": 0,
  "metadata": {
    "colab": {
      "provenance": [],
      "collapsed_sections": [
        "KvjPyR_G07v3",
        "t2834Wwb1NPz",
        "ssNmFpT11mrt"
      ]
    },
    "kernelspec": {
      "name": "python3",
      "display_name": "Python 3"
    },
    "language_info": {
      "name": "python"
    }
  },
  "cells": [
    {
      "cell_type": "markdown",
      "source": [
        "# 1. Python and NLTK Basis\n",
        "\n",
        "## Lesson 1 : Getting Start with Colaboratory Python\n",
        "First, we will start to learn some basics of python coding\n",
        "\n",
        "### 1. Output"
      ],
      "metadata": {
        "id": "n5pAfbT5YICN"
      }
    },
    {
      "cell_type": "code",
      "source": [
        "print(\"hello world!\")"
      ],
      "metadata": {
        "colab": {
          "base_uri": "https://localhost:8080/"
        },
        "id": "6GwSM4SdlO48",
        "outputId": "646c47ac-f1da-4997-fcd9-5dc99108feb3"
      },
      "execution_count": null,
      "outputs": [
        {
          "output_type": "stream",
          "name": "stdout",
          "text": [
            "hello world!\n"
          ]
        }
      ]
    },
    {
      "cell_type": "code",
      "source": [
        "a = 1+2+3\n",
        "print(a)"
      ],
      "metadata": {
        "colab": {
          "base_uri": "https://localhost:8080/"
        },
        "id": "mJgJbZBnufDG",
        "outputId": "60f389da-e63d-4d9d-9ece-e4a4c9244719"
      },
      "execution_count": null,
      "outputs": [
        {
          "output_type": "stream",
          "name": "stdout",
          "text": [
            "6\n"
          ]
        }
      ]
    },
    {
      "cell_type": "code",
      "execution_count": null,
      "metadata": {
        "colab": {
          "base_uri": "https://localhost:8080/"
        },
        "id": "y9RBEco5XgpI",
        "outputId": "7784d7e2-873f-4ab9-8578-41e3f61db1a0"
      },
      "outputs": [
        {
          "output_type": "stream",
          "name": "stdout",
          "text": [
            "This line will be printed\n",
            "This is also printed 3 elements\n",
            "a is 0, b is 1\n"
          ]
        }
      ],
      "source": [
        "# Output: print\n",
        "print(\"This line will be printed\")\n",
        "# Output: multiple output\n",
        "print(\"This is also printed\", 3, \"elements\")\n",
        "# Output: Formatted output\n",
        "a = 0\n",
        "b = 1\n",
        "print('a is {v1}, b is {v2}'.format(v1=a, v2=b))"
      ]
    },
    {
      "cell_type": "markdown",
      "source": [
        "### 2. Crause, Block"
      ],
      "metadata": {
        "id": "8h6X5jxSz7La"
      }
    },
    {
      "cell_type": "code",
      "source": [
        "# indentation rule\n",
        "x = 1\n",
        "if x == 1:\n",
        "    # indented four spaces\n",
        "    print(\"x is 1.\")"
      ],
      "metadata": {
        "colab": {
          "base_uri": "https://localhost:8080/"
        },
        "id": "yRamcgVcZSar",
        "outputId": "fbd8f8ee-a322-4f7a-e461-0cb44f5c0b83"
      },
      "execution_count": null,
      "outputs": [
        {
          "output_type": "stream",
          "name": "stdout",
          "text": [
            "x is 1.\n"
          ]
        }
      ]
    },
    {
      "cell_type": "code",
      "source": [
        "# indentation rule\n",
        "x = 1\n",
        "if x == 1:\n",
        "    # indented four spaces\n",
        "    print(\"x is 1.\")\n",
        "    # because the indentation error, this statement is not able to do\n",
        "      print(\"bad indentation\")"
      ],
      "metadata": {
        "colab": {
          "base_uri": "https://localhost:8080/",
          "height": 106
        },
        "id": "_4cIErKdZdoS",
        "outputId": "1b8b83a8-eb2f-47b8-f2f0-0147cb3f5081"
      },
      "execution_count": null,
      "outputs": [
        {
          "output_type": "error",
          "ename": "IndentationError",
          "evalue": "unexpected indent (<ipython-input-25-d6cad7306f68>, line 7)",
          "traceback": [
            "\u001b[0;36m  File \u001b[0;32m\"<ipython-input-25-d6cad7306f68>\"\u001b[0;36m, line \u001b[0;32m7\u001b[0m\n\u001b[0;31m    print(\"bad indentation\")\u001b[0m\n\u001b[0m    ^\u001b[0m\n\u001b[0;31mIndentationError\u001b[0m\u001b[0;31m:\u001b[0m unexpected indent\n"
          ]
        }
      ]
    },
    {
      "cell_type": "markdown",
      "source": [
        "### 3. Number and String"
      ],
      "metadata": {
        "id": "cPOSO4EC0DTb"
      }
    },
    {
      "cell_type": "code",
      "source": [
        "# Numbers:\n",
        "myint = int(7.0)\n",
        "print(myint, type(myint))\n",
        "myfloat = 7.0\n",
        "print(myfloat, type(myfloat))\n",
        "myfloat = float(7)\n",
        "print(myfloat, type(myfloat))"
      ],
      "metadata": {
        "id": "4vwJiFDdZoEu",
        "colab": {
          "base_uri": "https://localhost:8080/"
        },
        "outputId": "bfe8ff31-42c5-4dbf-cac6-ce4ab7dc626f"
      },
      "execution_count": null,
      "outputs": [
        {
          "output_type": "stream",
          "name": "stdout",
          "text": [
            "7 <class 'int'>\n",
            "7.0 <class 'float'>\n",
            "7.0 <class 'float'>\n"
          ]
        }
      ]
    },
    {
      "cell_type": "code",
      "source": [
        "# Strings:\n",
        "print(type(\"double test\"))\n",
        "print(type('single test'))\n",
        "mystring = \"hello\"\n",
        "print(mystring)\n",
        "mystring = 'world'\n",
        "print(mystring)"
      ],
      "metadata": {
        "id": "yCJuy12UZu9i",
        "colab": {
          "base_uri": "https://localhost:8080/"
        },
        "outputId": "935c2ce9-2260-499d-e598-2f886933375e"
      },
      "execution_count": null,
      "outputs": [
        {
          "output_type": "stream",
          "name": "stdout",
          "text": [
            "<class 'str'>\n",
            "<class 'str'>\n",
            "hello\n",
            "world\n"
          ]
        }
      ]
    },
    {
      "cell_type": "code",
      "source": [
        "mystring = 'single quatation is able to that'\n",
        "print(mystring)\n",
        "# if you want to use apostrophes, you can use double quatation\n",
        "mystring = \"Don't worry about apostrophes\"\n",
        "print(mystring)\n",
        "# or you can use escape sequence(\\')\n",
        "mystring = 'you can escape as you\\'ll be better'\n",
        "print(mystring)"
      ],
      "metadata": {
        "id": "gVg606NwZ8dq",
        "colab": {
          "base_uri": "https://localhost:8080/"
        },
        "outputId": "5b7b3a68-2cf4-446f-bdbb-003d374fe9b6"
      },
      "execution_count": null,
      "outputs": [
        {
          "output_type": "stream",
          "name": "stdout",
          "text": [
            "single quatation is able to that\n",
            "Don't worry about apostrophes\n",
            "you can escape as you'll be better\n"
          ]
        }
      ]
    },
    {
      "cell_type": "code",
      "source": [
        "# Operand + is generally \"add\"\n",
        "one = 1\n",
        "two = 2\n",
        "three = one + two\n",
        "print(three)\n",
        "\n",
        "# but, string case, operand + is \"concatination\"\n",
        "hello = \"hello\"\n",
        "world = \"world\"\n",
        "helloworld = hello + \" \" + world\n",
        "print(helloworld)"
      ],
      "metadata": {
        "id": "HXn5ow-GaZqj",
        "colab": {
          "base_uri": "https://localhost:8080/"
        },
        "outputId": "6994f991-cb3b-407f-e5fd-95c46cf71020"
      },
      "execution_count": null,
      "outputs": [
        {
          "output_type": "stream",
          "name": "stdout",
          "text": [
            "3\n",
            "hello world\n"
          ]
        }
      ]
    },
    {
      "cell_type": "markdown",
      "source": [
        "### 4. Assignment, Tuple and List"
      ],
      "metadata": {
        "id": "8JhnsC-i0SAp"
      }
    },
    {
      "cell_type": "code",
      "source": [
        "# assignment rule\n",
        "a, b, hello = 1, 2, \"hello\"\n",
        "print(a, b, hello)"
      ],
      "metadata": {
        "id": "ZqwjFvBWarxy",
        "colab": {
          "base_uri": "https://localhost:8080/"
        },
        "outputId": "35fd2b6f-aca4-4827-a88e-33c5b339920f"
      },
      "execution_count": null,
      "outputs": [
        {
          "output_type": "stream",
          "name": "stdout",
          "text": [
            "1 2 hello\n"
          ]
        }
      ]
    },
    {
      "cell_type": "code",
      "source": [
        "#Tuple\n",
        "tuple_sample1 = (1,2,3,4,5, \"hello\") # Tuple\n",
        "tuple_sample2 = 6,7,8,9,10, \"world\" # This is also tuple\n",
        "print(tuple_sample1 + tuple_sample2)"
      ],
      "metadata": {
        "colab": {
          "base_uri": "https://localhost:8080/"
        },
        "id": "uKkQSie_a5Ga",
        "outputId": "24243683-2929-4c30-8486-3442b517f4e4"
      },
      "execution_count": null,
      "outputs": [
        {
          "output_type": "stream",
          "name": "stdout",
          "text": [
            "(1, 2, 3, 4, 5, 'hello', 6, 7, 8, 9, 10, 'world')\n"
          ]
        }
      ]
    },
    {
      "cell_type": "code",
      "source": [
        "# List\n",
        "mylist = []\n",
        "mylist.append(1)\n",
        "mylist.append(2)\n",
        "mylist.append(3)\n",
        "print(mylist[0]) # prints 1\n",
        "print(mylist[1]) # prints 2\n",
        "print(mylist[2]) # prints 3\n",
        "\n",
        "# prints out 1, 2,3\n",
        "for x in mylist:\n",
        "    print(x)\n",
        "\n",
        "name = [\"John\", \"Eric\", \"Jessica\", \"Samuel\"]\n",
        "for x in name:\n",
        "    print(x)\n",
        "print(name)"
      ],
      "metadata": {
        "colab": {
          "base_uri": "https://localhost:8080/"
        },
        "id": "LorIz49davCS",
        "outputId": "3a6e6c65-1de1-49a3-c35c-a02458796cc1"
      },
      "execution_count": null,
      "outputs": [
        {
          "output_type": "stream",
          "name": "stdout",
          "text": [
            "1\n",
            "2\n",
            "3\n",
            "1\n",
            "2\n",
            "3\n",
            "John\n",
            "Eric\n",
            "Jessica\n",
            "Samuel\n",
            "['John', 'Eric', 'Jessica', 'Samuel']\n"
          ]
        }
      ]
    },
    {
      "cell_type": "code",
      "source": [
        "# List operation \"in\"\n",
        "\n",
        "name = \"John\"\n",
        "if name in [\"John\", \"Rick\"]: # find element\n",
        "    print(\"Your name is either John or Rick.\")"
      ],
      "metadata": {
        "colab": {
          "base_uri": "https://localhost:8080/"
        },
        "id": "2gF143bCdG4x",
        "outputId": "06828a0b-eec0-4743-8884-897092347197"
      },
      "execution_count": null,
      "outputs": [
        {
          "output_type": "stream",
          "name": "stdout",
          "text": [
            "Your name is either John or Rick.\n"
          ]
        }
      ]
    },
    {
      "cell_type": "code",
      "source": [
        "# Dictionary\n",
        "dict1 = {'name':'John','class':'S2','id':'s1100217'}\n",
        "print(dict1)\n",
        "print(dict1['name'])\n",
        "print(dict1['id'])"
      ],
      "metadata": {
        "colab": {
          "base_uri": "https://localhost:8080/"
        },
        "id": "Db7D9yqg0ZnT",
        "outputId": "b8697795-6a4b-4742-8d4a-13c249571a04"
      },
      "execution_count": null,
      "outputs": [
        {
          "output_type": "stream",
          "name": "stdout",
          "text": [
            "{'name': 'John', 'class': 'S2', 'id': 's1100217'}\n",
            "John\n",
            "s1100217\n"
          ]
        }
      ]
    },
    {
      "cell_type": "code",
      "source": [
        "phonebook = {}\n",
        "phonebook[\"John\"] = 938477566\n",
        "phonebook[\"Jack\"] = 938377264\n",
        "phonebook[\"Jill\"] = 947662781\n",
        "print(phonebook)"
      ],
      "metadata": {
        "colab": {
          "base_uri": "https://localhost:8080/"
        },
        "id": "vNGD4ouS2tkC",
        "outputId": "ad3f40d2-76fc-4ff8-d3d7-54bb13d25035"
      },
      "execution_count": null,
      "outputs": [
        {
          "output_type": "stream",
          "name": "stdout",
          "text": [
            "{'John': 938477566, 'Jack': 938377264, 'Jill': 947662781}\n"
          ]
        }
      ]
    },
    {
      "cell_type": "code",
      "source": [
        "phonebook = {\n",
        "    \"John\" : 938477566,\n",
        "    \"Jack\" : 938377264,\n",
        "    \"Jill\" : 947662781\n",
        "}\n",
        "print(phonebook)"
      ],
      "metadata": {
        "colab": {
          "base_uri": "https://localhost:8080/"
        },
        "id": "l1vLBFau2vrn",
        "outputId": "8d69d0f5-2cc2-484b-9bc2-7c1159694580"
      },
      "execution_count": null,
      "outputs": [
        {
          "output_type": "stream",
          "name": "stdout",
          "text": [
            "{'John': 938477566, 'Jack': 938377264, 'Jill': 947662781}\n"
          ]
        }
      ]
    },
    {
      "cell_type": "code",
      "source": [
        "del phonebook[\"John\"]\n",
        "print(phonebook)"
      ],
      "metadata": {
        "colab": {
          "base_uri": "https://localhost:8080/"
        },
        "id": "WQ56vMra2x2O",
        "outputId": "3c36d4f5-bd37-42be-d4fa-77c6be7ac9aa"
      },
      "execution_count": null,
      "outputs": [
        {
          "output_type": "stream",
          "name": "stdout",
          "text": [
            "{'Jack': 938377264, 'Jill': 947662781}\n"
          ]
        }
      ]
    },
    {
      "cell_type": "code",
      "source": [
        "phonebook.pop(\"Jill\")\n",
        "print(phonebook)"
      ],
      "metadata": {
        "colab": {
          "base_uri": "https://localhost:8080/"
        },
        "id": "rrLnTdz_2zrq",
        "outputId": "bbf609ad-abae-4fcf-a998-dc1ffb8379a7"
      },
      "execution_count": null,
      "outputs": [
        {
          "output_type": "stream",
          "name": "stdout",
          "text": [
            "{'Jack': 938377264}\n"
          ]
        }
      ]
    },
    {
      "cell_type": "markdown",
      "source": [
        "### 5. Operators\n",
        "\n"
      ],
      "metadata": {
        "id": "KvjPyR_G07v3"
      }
    },
    {
      "cell_type": "code",
      "source": [
        "# Arithmetic Operators\n",
        "number = 1 + 2 * 3 / 4.0\n",
        "print(number, type(number))\n",
        "\n",
        "remainder = 11 % 3\n",
        "print(remainder)\n",
        "\n",
        "squared = 7 ** 2\n",
        "cubed = 2 ** 3\n",
        "print(squared, cubed)"
      ],
      "metadata": {
        "colab": {
          "base_uri": "https://localhost:8080/"
        },
        "id": "f6TWVyqobyJX",
        "outputId": "3329366d-2a6b-4462-b739-2a9ae8257429"
      },
      "execution_count": null,
      "outputs": [
        {
          "output_type": "stream",
          "name": "stdout",
          "text": [
            "2.5 <class 'float'>\n",
            "2\n",
            "49 8\n"
          ]
        }
      ]
    },
    {
      "cell_type": "code",
      "source": [
        "# Using operators with string and lists\n",
        "\n",
        "# Concatinate\n",
        "helloworld = \"hello\" + \" \" + \"world\"\n",
        "print(helloworld)\n",
        "\n",
        "# Copy\n",
        "lotsofhellos = \"hello\" * 10\n",
        "print(lotsofhellos)\n",
        "\n",
        "# list concatination\n",
        "even_numbers = [2,4,6,8]\n",
        "odd_numbers = [1,3,5,7]\n",
        "all_numbers = odd_numbers + even_numbers\n",
        "print(all_numbers)\n",
        "\n",
        "# list copy\n",
        "print([1,2,3]*3)"
      ],
      "metadata": {
        "colab": {
          "base_uri": "https://localhost:8080/"
        },
        "id": "jBG50g_Ab4SN",
        "outputId": "09cee101-9a5b-4309-e299-fd4badbcd5d8"
      },
      "execution_count": null,
      "outputs": [
        {
          "output_type": "stream",
          "name": "stdout",
          "text": [
            "hello world\n",
            "hellohellohellohellohellohellohellohellohellohello\n",
            "[1, 3, 5, 7, 2, 4, 6, 8]\n",
            "[1, 2, 3, 1, 2, 3, 1, 2, 3]\n"
          ]
        }
      ]
    },
    {
      "cell_type": "markdown",
      "source": [
        "### 6. String Format and Operations"
      ],
      "metadata": {
        "id": "ndqyzjGK1FSu"
      }
    },
    {
      "cell_type": "code",
      "source": [
        "# String formatting\n",
        "\n",
        "# %s: String, etc.\n",
        "# %d: Integer type (Integer)\n",
        "# %f: Floating point type\n",
        "# %. \\< number of digits >f: Rounded decimal type\n",
        "# %x/%X: octal integer (lowercase/uppercase)\n",
        "\n",
        "name = \"John\"\n",
        "print(\"Hello, %s!\" % name )\n",
        "age = 23\n",
        "print(\"%s is %d years old.\" % (name,age))\n",
        "\n",
        "# %s is not only string but also list for use\n",
        "mylist = [1,2,3]\n",
        "print(\"A list: %s\" % mylist)"
      ],
      "metadata": {
        "colab": {
          "base_uri": "https://localhost:8080/"
        },
        "id": "CrRrLpvKcIMi",
        "outputId": "56b885b0-e87a-4548-a9a9-70ad6bc5fc39"
      },
      "execution_count": null,
      "outputs": [
        {
          "output_type": "stream",
          "name": "stdout",
          "text": [
            "Hello, John!\n",
            "John is 23 years old.\n",
            "A list: [1, 2, 3]\n"
          ]
        }
      ]
    },
    {
      "cell_type": "code",
      "source": [
        "# Basic String Operations\n",
        "\n",
        "# len() retrieve the length of a string\n",
        "# index() Get the number of the first position where a character/string exists\n",
        "# count() Get the number of times a character/string appears\n",
        "# upper() Converts a string to a sequence of uppercase letters\n",
        "# lower() Convert a string to lower case\n",
        "# startswith() Determine if a string starts with a character/string\n",
        "# endswidth() Determine if a string ends with a character/string\n",
        "# sprit() Separates a string using a character/string as a separator\n",
        "\n",
        "astring = \"Hello world!\"\n",
        "print(\"len\", len(astring))\n",
        "print(\"index\", astring.index(\"o\"))\n",
        "print(\"count\", astring.count(\"l\"))\n",
        "print(\"list1\", astring[3:7])\n",
        "print(\"list2\",astring[3:7:2])\n",
        "print(\"list3\",astring[::-1])\n",
        "print(\"upper\", astring.upper())\n",
        "print(\"lower\", astring.lower())\n",
        "print(\"startswith\", astring.startswith(\"Hello\"))\n",
        "print(\"endswith\", astring.endswith(\"asdf\"))\n",
        "print(\"split\", astring.split(\" \"))"
      ],
      "metadata": {
        "colab": {
          "base_uri": "https://localhost:8080/"
        },
        "id": "Ihtcwxl3cboN",
        "outputId": "493818ef-0124-43e3-b1e1-7619adf4042e"
      },
      "execution_count": null,
      "outputs": [
        {
          "output_type": "stream",
          "name": "stdout",
          "text": [
            "len 12\n",
            "index 4\n",
            "count 3\n",
            "list1 lo w\n",
            "list2 l \n",
            "list3 !dlrow olleH\n",
            "upper HELLO WORLD!\n",
            "lower hello world!\n",
            "startswith True\n",
            "endswith False\n",
            "split ['Hello', 'world!']\n"
          ]
        }
      ]
    },
    {
      "cell_type": "markdown",
      "source": [
        "### 7. Conditions and Literal"
      ],
      "metadata": {
        "id": "t2834Wwb1NPz"
      }
    },
    {
      "cell_type": "code",
      "source": [
        "# Conditions\n",
        "\n",
        "# Arithmetic comparison operators (value comparisons)\n",
        "\n",
        "# a == b # a is equal to b\n",
        "# a ! = b # a is different from b\n",
        "# a < b # a is less than b\n",
        "# a > b # a is greater than b\n",
        "# a <= b # a is less than or equal to b\n",
        "# a >= b # a is greater than or equal to b\n",
        "# a <> b # a is different from b\n",
        "\n",
        "# Instance comparison operators (pointer comparison, not value comparison)\n",
        "\n",
        "# a is b # a is equal to b\n",
        "# a is not b # a is different from b\n",
        "# a in b # a is in b\n",
        "# a not in b # a is not in b\n",
        "\n",
        "# Logical operators\n",
        "\n",
        "# a and b # true if both a and b are true\n",
        "# a or b # true if a or b is true\n",
        "# not a # true if a is false\n",
        "\n",
        "x = 2\n",
        "print(x == 2) # prints out True\n",
        "print(x == 3) # prints out False\n",
        "print(x < 3) # prints out True\n",
        "x = [1,2,3]\n",
        "y = [1,2,3]\n",
        "print(x == y) # Prints out True\n",
        "print(x is y) # Prints out False\n",
        "print(not False) # Prints out True\n",
        "print((not False) == (False)) # Prints out False\n",
        "\n",
        "name = \"John\"\n",
        "age = 23\n",
        "if name == \"John\" and age == 23:\n",
        "    print(\"Your name is John, and you are also 23 years old.\")\n",
        "\n",
        "if name == \"John\" or name == \"Rick\":\n",
        "    print(\"Your name is either John or Rick.\")"
      ],
      "metadata": {
        "colab": {
          "base_uri": "https://localhost:8080/"
        },
        "id": "RJUXlhQjcurG",
        "outputId": "3b1f3844-5406-4412-b5f0-57f52dc388c8"
      },
      "execution_count": null,
      "outputs": [
        {
          "output_type": "stream",
          "name": "stdout",
          "text": [
            "True\n",
            "False\n",
            "True\n",
            "True\n",
            "False\n",
            "True\n",
            "False\n",
            "Your name is John, and you are also 23 years old.\n",
            "Your name is either John or Rick.\n"
          ]
        }
      ]
    },
    {
      "cell_type": "markdown",
      "source": [
        "### 8. Controls"
      ],
      "metadata": {
        "id": "grpFnADG1d8u"
      }
    },
    {
      "cell_type": "code",
      "source": [
        "# pass - do nothing in statement block\n",
        "# Generally, python requires one or more line for statement block, but if you have nothing to do there, you can use pass\n",
        "\n",
        "statement = False\n",
        "another_statement = True\n",
        "if statement is True:\n",
        "    # do something\n",
        "    pass\n",
        "elif another_statement is True: # else if\n",
        "    # do something else\n",
        "    pass\n",
        "else:\n",
        "    # do another thing\n",
        "    pass"
      ],
      "metadata": {
        "id": "EWk6DL7UdLg9"
      },
      "execution_count": null,
      "outputs": []
    },
    {
      "cell_type": "code",
      "source": [
        "# Error statement\n",
        "statement = False\n",
        "another_statement = True\n",
        "if statement is True:\n",
        "    # Cannot do this\n",
        "\n",
        "elif another_statement is True: # else if\n",
        "    # Cannot do this\n",
        "\n",
        "else:\n",
        "    # Cannot do this\n"
      ],
      "metadata": {
        "id": "C0xK04MadlJY",
        "colab": {
          "base_uri": "https://localhost:8080/",
          "height": 106
        },
        "outputId": "346accbf-8139-4d29-dc4e-8f1e4f321a64"
      },
      "execution_count": null,
      "outputs": [
        {
          "output_type": "error",
          "ename": "IndentationError",
          "evalue": "expected an indented block after 'if' statement on line 4 (<ipython-input-46-37c1ce861e6c>, line 7)",
          "traceback": [
            "\u001b[0;36m  File \u001b[0;32m\"<ipython-input-46-37c1ce861e6c>\"\u001b[0;36m, line \u001b[0;32m7\u001b[0m\n\u001b[0;31m    elif another_statement is True: # else if\u001b[0m\n\u001b[0m    ^\u001b[0m\n\u001b[0;31mIndentationError\u001b[0m\u001b[0;31m:\u001b[0m expected an indented block after 'if' statement on line 4\n"
          ]
        }
      ]
    },
    {
      "cell_type": "code",
      "source": [
        "# Loop\n",
        "# For loop\n",
        "\n",
        "# Caution: python loop is apply for only \"listed\" elements. not as C or Java\n",
        "primes = [2, 3, 5, 7]\n",
        "for prime in primes:\n",
        "    print(prime)\n",
        "\n",
        "# Prints out the numbers 0,1,2,3,4\n",
        "for x in range(5):\n",
        "    print(x)\n",
        "\n",
        "# Prints out 3,4,5\n",
        "for x in range(3, 6):\n",
        "    print(x)\n",
        "\n",
        "# Prints out 3,5,7\n",
        "for x in range(3, 8, 2):\n",
        "    print(x)"
      ],
      "metadata": {
        "id": "-tXQkG15dyFG",
        "colab": {
          "base_uri": "https://localhost:8080/"
        },
        "outputId": "9d993710-d90b-476a-97b3-8e78d46610c6"
      },
      "execution_count": null,
      "outputs": [
        {
          "output_type": "stream",
          "name": "stdout",
          "text": [
            "2\n",
            "3\n",
            "5\n",
            "7\n",
            "0\n",
            "1\n",
            "2\n",
            "3\n",
            "4\n",
            "3\n",
            "4\n",
            "5\n",
            "3\n",
            "5\n",
            "7\n"
          ]
        }
      ]
    },
    {
      "cell_type": "code",
      "source": [
        "# While loop\n",
        "# Prints out 0,1,2,3,4\n",
        "\n",
        "count = 0\n",
        "while count < 5:\n",
        "    print(count)\n",
        "    count += 1  # This is the same as count = count + 1"
      ],
      "metadata": {
        "id": "_TTnzmt8eDM-",
        "colab": {
          "base_uri": "https://localhost:8080/"
        },
        "outputId": "fe50e35d-c784-44f8-ee6f-b78da936de8f"
      },
      "execution_count": null,
      "outputs": [
        {
          "output_type": "stream",
          "name": "stdout",
          "text": [
            "0\n",
            "1\n",
            "2\n",
            "3\n",
            "4\n"
          ]
        }
      ]
    },
    {
      "cell_type": "code",
      "source": [
        "# Termination and Continue\n",
        "\n",
        "# Prints out 0,1,2,3,4\n",
        "\n",
        "count = 0\n",
        "\n",
        "# Break\n",
        "while True:\n",
        "    print(count)\n",
        "    count += 1\n",
        "    if count >= 5:\n",
        "        break\n",
        "# Continue\n",
        "# Prints out only odd numbers - 1,3,5,7,9\n",
        "for x in range(10):\n",
        "    # Check if x is even\n",
        "    if x % 2 == 0:\n",
        "        continue\n",
        "    print(x)"
      ],
      "metadata": {
        "id": "jE27pg8JeJld",
        "colab": {
          "base_uri": "https://localhost:8080/"
        },
        "outputId": "a530cb20-a1ad-4b29-9931-3fd1c62fbada"
      },
      "execution_count": null,
      "outputs": [
        {
          "output_type": "stream",
          "name": "stdout",
          "text": [
            "0\n",
            "1\n",
            "2\n",
            "3\n",
            "4\n",
            "1\n",
            "3\n",
            "5\n",
            "7\n",
            "9\n"
          ]
        }
      ]
    },
    {
      "cell_type": "code",
      "source": [
        "# \"else\" in for loop - speciality in python\n",
        "\n",
        "# Prints out 0,1,2,3,4 and then it prints \"count value reached 5\"\n",
        "\n",
        "count=0\n",
        "while(count<5):\n",
        "    print(count)\n",
        "    count +=1\n",
        "else:\n",
        "    print(\"count value reached %d\" %(count))\n",
        "\n",
        "# Prints out 1,2,3,4\n",
        "for i in range(1, 10):\n",
        "    if(i%5==0):\n",
        "        break\n",
        "    print(i)\n",
        "else:\n",
        "    print(\"this is not printed because for loop is terminated because of break but not due to fail in condition\")"
      ],
      "metadata": {
        "id": "4wWGojg8eUpp",
        "colab": {
          "base_uri": "https://localhost:8080/"
        },
        "outputId": "db4b86f0-1817-49dd-b592-60ba5a6b21dc"
      },
      "execution_count": null,
      "outputs": [
        {
          "output_type": "stream",
          "name": "stdout",
          "text": [
            "0\n",
            "1\n",
            "2\n",
            "3\n",
            "4\n",
            "count value reached 5\n",
            "1\n",
            "2\n",
            "3\n",
            "4\n"
          ]
        }
      ]
    },
    {
      "cell_type": "markdown",
      "source": [
        "### 9. Function"
      ],
      "metadata": {
        "id": "ssNmFpT11mrt"
      }
    },
    {
      "cell_type": "code",
      "source": [
        "def my_function():\n",
        "    print(\"Hello From My Function!\")"
      ],
      "metadata": {
        "id": "dmkFMSsvztsq"
      },
      "execution_count": null,
      "outputs": []
    },
    {
      "cell_type": "code",
      "source": [
        "my_function()"
      ],
      "metadata": {
        "id": "a__6P-uc1zRG",
        "colab": {
          "base_uri": "https://localhost:8080/"
        },
        "outputId": "3527dd03-da04-4fde-b8b8-86fd88f80ee4"
      },
      "execution_count": null,
      "outputs": [
        {
          "output_type": "stream",
          "name": "stdout",
          "text": [
            "Hello From My Function!\n"
          ]
        }
      ]
    },
    {
      "cell_type": "code",
      "source": [
        "def my_function_with_args(username, greeting):\n",
        "    print(\"Hello, %s , From My Function!, I wish you %s\"%(username, greeting))"
      ],
      "metadata": {
        "id": "yL-rvKS7114u"
      },
      "execution_count": null,
      "outputs": []
    },
    {
      "cell_type": "code",
      "source": [
        "my_function_with_args(\"Yaguchi\", \"a merry christmas!\")"
      ],
      "metadata": {
        "id": "2T2Q-4qh14Oy",
        "colab": {
          "base_uri": "https://localhost:8080/"
        },
        "outputId": "25c5a176-a089-47de-c5b2-bee8034284f4"
      },
      "execution_count": null,
      "outputs": [
        {
          "output_type": "stream",
          "name": "stdout",
          "text": [
            "Hello, Yaguchi , From My Function!, I wish you a merry christmas!\n"
          ]
        }
      ]
    },
    {
      "cell_type": "code",
      "source": [
        "def sum_two_numbers(a, b):\n",
        "    return a + b"
      ],
      "metadata": {
        "id": "s7xKz3Bh16w-"
      },
      "execution_count": null,
      "outputs": []
    },
    {
      "cell_type": "code",
      "source": [
        "sum_two_numbers(10,20)"
      ],
      "metadata": {
        "id": "djvPqXMp1-Q0",
        "colab": {
          "base_uri": "https://localhost:8080/"
        },
        "outputId": "bec8a46f-31b5-467b-bbc9-7a528df2e74a"
      },
      "execution_count": null,
      "outputs": [
        {
          "output_type": "execute_result",
          "data": {
            "text/plain": [
              "30"
            ]
          },
          "metadata": {},
          "execution_count": 56
        }
      ]
    },
    {
      "cell_type": "code",
      "source": [
        "def calc_two_numbers(a, b):\n",
        "    return a + b, a - b, a * b, a / b"
      ],
      "metadata": {
        "id": "WF_6oNra2AgK"
      },
      "execution_count": null,
      "outputs": []
    },
    {
      "cell_type": "code",
      "source": [
        "calc_two_numbers(10,20)"
      ],
      "metadata": {
        "id": "FwXhyTWY2CfH",
        "colab": {
          "base_uri": "https://localhost:8080/"
        },
        "outputId": "359e732c-088b-47ab-fc76-68642fafa2a2"
      },
      "execution_count": null,
      "outputs": [
        {
          "output_type": "execute_result",
          "data": {
            "text/plain": [
              "(30, -10, 200, 0.5)"
            ]
          },
          "metadata": {},
          "execution_count": 58
        }
      ]
    },
    {
      "cell_type": "markdown",
      "source": [
        "### 10. Class"
      ],
      "metadata": {
        "id": "sGUurag-dxns"
      }
    },
    {
      "cell_type": "code",
      "source": [
        "class MyClass:\n",
        "    variable = \"blah\"\n",
        "\n",
        "    def function(self):\n",
        "        print(\"This is a message inside the class.\")\n",
        "\n",
        "myobjectx = MyClass()\n",
        "\n",
        "myobjectx.function()"
      ],
      "metadata": {
        "id": "-o8bJeLH2HXo",
        "colab": {
          "base_uri": "https://localhost:8080/"
        },
        "outputId": "21a65ded-a53e-4548-86ca-61e82e5e8010"
      },
      "execution_count": null,
      "outputs": [
        {
          "output_type": "stream",
          "name": "stdout",
          "text": [
            "This is a message inside the class.\n"
          ]
        }
      ]
    },
    {
      "cell_type": "code",
      "source": [
        "myobjectx = MyClass()\n",
        "myobjecty = MyClass()\n",
        "\n",
        "myobjecty.variable = \"yackity\"\n",
        "\n",
        "# Then print out both values\n",
        "print(myobjectx.variable)\n",
        "print(myobjecty.variable)"
      ],
      "metadata": {
        "id": "KY-KN4l52Iey",
        "colab": {
          "base_uri": "https://localhost:8080/"
        },
        "outputId": "e8e3cabb-d609-4836-b512-3fafdd04342d"
      },
      "execution_count": null,
      "outputs": [
        {
          "output_type": "stream",
          "name": "stdout",
          "text": [
            "blah\n",
            "yackity\n"
          ]
        }
      ]
    },
    {
      "cell_type": "code",
      "source": [
        "class Color1:\n",
        "    def getName1(self):\n",
        "        return \"red\"\n",
        "\n",
        "class Color2:\n",
        "    def getName2(self):\n",
        "        return \"blue\"\n",
        "\n",
        "# Inheritance (Multi Inheritance)\n",
        "class Color3(Color1,Color2):\n",
        "    def getName3(self):\n",
        "        return \"yellow\"\n",
        "\n",
        "c3 = Color3()\n",
        "\n",
        "print(c3.getName1()) # red\n",
        "print(c3.getName2()) # blue\n",
        "print(c3.getName3()) # yellow"
      ],
      "metadata": {
        "id": "5xqKyStJ2KvK",
        "colab": {
          "base_uri": "https://localhost:8080/"
        },
        "outputId": "3446d2d7-5128-4aa5-af6f-979e62ba3401"
      },
      "execution_count": null,
      "outputs": [
        {
          "output_type": "stream",
          "name": "stdout",
          "text": [
            "red\n",
            "blue\n",
            "yellow\n"
          ]
        }
      ]
    },
    {
      "cell_type": "code",
      "source": [
        "class Color1:\n",
        "    def getName1(self):\n",
        "        print (\"red\")\n",
        "\n",
        "# Inheritance\n",
        "class Color2(Color1):\n",
        "    def getName2(self):\n",
        "        # upper class\n",
        "        super().getName1()\n",
        "\n",
        "c2 = Color2()\n",
        "\n",
        "c2.getName2()"
      ],
      "metadata": {
        "id": "fZfhojjh2NnO",
        "colab": {
          "base_uri": "https://localhost:8080/"
        },
        "outputId": "98c10a2f-4a62-49d8-b367-01611c97d9ac"
      },
      "execution_count": null,
      "outputs": [
        {
          "output_type": "stream",
          "name": "stdout",
          "text": [
            "red\n"
          ]
        }
      ]
    },
    {
      "cell_type": "markdown",
      "source": [
        "## Lesson 2. NLTK Basis"
      ],
      "metadata": {
        "id": "Rgx4BSIJZ7rJ"
      }
    },
    {
      "cell_type": "markdown",
      "source": [
        "To use NLTK on colaboratory, we should download corpus documents at first."
      ],
      "metadata": {
        "id": "KIf8_sCb9eE9"
      }
    },
    {
      "cell_type": "code",
      "source": [
        "import nltk\n",
        "nltk.download('all')\n",
        "from nltk.book import *"
      ],
      "metadata": {
        "colab": {
          "base_uri": "https://localhost:8080/"
        },
        "id": "phafVaUB3DBq",
        "outputId": "75ec43c3-9129-4f32-e5c2-2c5aebbf3603"
      },
      "execution_count": null,
      "outputs": [
        {
          "output_type": "stream",
          "name": "stderr",
          "text": [
            "[nltk_data] Downloading collection 'all'\n",
            "[nltk_data]    | \n",
            "[nltk_data]    | Downloading package abc to /root/nltk_data...\n",
            "[nltk_data]    |   Unzipping corpora/abc.zip.\n",
            "[nltk_data]    | Downloading package alpino to /root/nltk_data...\n",
            "[nltk_data]    |   Unzipping corpora/alpino.zip.\n",
            "[nltk_data]    | Downloading package averaged_perceptron_tagger to\n",
            "[nltk_data]    |     /root/nltk_data...\n",
            "[nltk_data]    |   Unzipping taggers/averaged_perceptron_tagger.zip.\n",
            "[nltk_data]    | Downloading package averaged_perceptron_tagger_eng to\n",
            "[nltk_data]    |     /root/nltk_data...\n",
            "[nltk_data]    |   Unzipping\n",
            "[nltk_data]    |       taggers/averaged_perceptron_tagger_eng.zip.\n",
            "[nltk_data]    | Downloading package averaged_perceptron_tagger_ru to\n",
            "[nltk_data]    |     /root/nltk_data...\n",
            "[nltk_data]    |   Unzipping\n",
            "[nltk_data]    |       taggers/averaged_perceptron_tagger_ru.zip.\n",
            "[nltk_data]    | Downloading package averaged_perceptron_tagger_rus to\n",
            "[nltk_data]    |     /root/nltk_data...\n",
            "[nltk_data]    |   Unzipping\n",
            "[nltk_data]    |       taggers/averaged_perceptron_tagger_rus.zip.\n",
            "[nltk_data]    | Downloading package basque_grammars to\n",
            "[nltk_data]    |     /root/nltk_data...\n",
            "[nltk_data]    |   Unzipping grammars/basque_grammars.zip.\n",
            "[nltk_data]    | Downloading package bcp47 to /root/nltk_data...\n",
            "[nltk_data]    | Downloading package biocreative_ppi to\n",
            "[nltk_data]    |     /root/nltk_data...\n",
            "[nltk_data]    |   Unzipping corpora/biocreative_ppi.zip.\n",
            "[nltk_data]    | Downloading package bllip_wsj_no_aux to\n",
            "[nltk_data]    |     /root/nltk_data...\n",
            "[nltk_data]    |   Unzipping models/bllip_wsj_no_aux.zip.\n",
            "[nltk_data]    | Downloading package book_grammars to\n",
            "[nltk_data]    |     /root/nltk_data...\n",
            "[nltk_data]    |   Unzipping grammars/book_grammars.zip.\n",
            "[nltk_data]    | Downloading package brown to /root/nltk_data...\n",
            "[nltk_data]    |   Unzipping corpora/brown.zip.\n",
            "[nltk_data]    | Downloading package brown_tei to /root/nltk_data...\n",
            "[nltk_data]    |   Unzipping corpora/brown_tei.zip.\n",
            "[nltk_data]    | Downloading package cess_cat to /root/nltk_data...\n",
            "[nltk_data]    |   Unzipping corpora/cess_cat.zip.\n",
            "[nltk_data]    | Downloading package cess_esp to /root/nltk_data...\n",
            "[nltk_data]    |   Unzipping corpora/cess_esp.zip.\n",
            "[nltk_data]    | Downloading package chat80 to /root/nltk_data...\n",
            "[nltk_data]    |   Unzipping corpora/chat80.zip.\n",
            "[nltk_data]    | Downloading package city_database to\n",
            "[nltk_data]    |     /root/nltk_data...\n",
            "[nltk_data]    |   Unzipping corpora/city_database.zip.\n",
            "[nltk_data]    | Downloading package cmudict to /root/nltk_data...\n",
            "[nltk_data]    |   Unzipping corpora/cmudict.zip.\n",
            "[nltk_data]    | Downloading package comparative_sentences to\n",
            "[nltk_data]    |     /root/nltk_data...\n",
            "[nltk_data]    |   Unzipping corpora/comparative_sentences.zip.\n",
            "[nltk_data]    | Downloading package comtrans to /root/nltk_data...\n",
            "[nltk_data]    | Downloading package conll2000 to /root/nltk_data...\n",
            "[nltk_data]    |   Unzipping corpora/conll2000.zip.\n",
            "[nltk_data]    | Downloading package conll2002 to /root/nltk_data...\n",
            "[nltk_data]    |   Unzipping corpora/conll2002.zip.\n",
            "[nltk_data]    | Downloading package conll2007 to /root/nltk_data...\n",
            "[nltk_data]    | Downloading package crubadan to /root/nltk_data...\n",
            "[nltk_data]    |   Unzipping corpora/crubadan.zip.\n",
            "[nltk_data]    | Downloading package dependency_treebank to\n",
            "[nltk_data]    |     /root/nltk_data...\n",
            "[nltk_data]    |   Unzipping corpora/dependency_treebank.zip.\n",
            "[nltk_data]    | Downloading package dolch to /root/nltk_data...\n",
            "[nltk_data]    |   Unzipping corpora/dolch.zip.\n",
            "[nltk_data]    | Downloading package europarl_raw to\n",
            "[nltk_data]    |     /root/nltk_data...\n",
            "[nltk_data]    |   Unzipping corpora/europarl_raw.zip.\n",
            "[nltk_data]    | Downloading package extended_omw to\n",
            "[nltk_data]    |     /root/nltk_data...\n",
            "[nltk_data]    | Downloading package floresta to /root/nltk_data...\n",
            "[nltk_data]    |   Unzipping corpora/floresta.zip.\n",
            "[nltk_data]    | Downloading package framenet_v15 to\n",
            "[nltk_data]    |     /root/nltk_data...\n",
            "[nltk_data]    |   Unzipping corpora/framenet_v15.zip.\n",
            "[nltk_data]    | Downloading package framenet_v17 to\n",
            "[nltk_data]    |     /root/nltk_data...\n",
            "[nltk_data]    |   Unzipping corpora/framenet_v17.zip.\n",
            "[nltk_data]    | Downloading package gazetteers to /root/nltk_data...\n",
            "[nltk_data]    |   Unzipping corpora/gazetteers.zip.\n",
            "[nltk_data]    | Downloading package genesis to /root/nltk_data...\n",
            "[nltk_data]    |   Unzipping corpora/genesis.zip.\n",
            "[nltk_data]    | Downloading package gutenberg to /root/nltk_data...\n",
            "[nltk_data]    |   Unzipping corpora/gutenberg.zip.\n",
            "[nltk_data]    | Downloading package ieer to /root/nltk_data...\n",
            "[nltk_data]    |   Unzipping corpora/ieer.zip.\n",
            "[nltk_data]    | Downloading package inaugural to /root/nltk_data...\n",
            "[nltk_data]    |   Unzipping corpora/inaugural.zip.\n",
            "[nltk_data]    | Downloading package indian to /root/nltk_data...\n",
            "[nltk_data]    |   Unzipping corpora/indian.zip.\n",
            "[nltk_data]    | Downloading package jeita to /root/nltk_data...\n",
            "[nltk_data]    | Downloading package kimmo to /root/nltk_data...\n",
            "[nltk_data]    |   Unzipping corpora/kimmo.zip.\n",
            "[nltk_data]    | Downloading package knbc to /root/nltk_data...\n",
            "[nltk_data]    | Downloading package large_grammars to\n",
            "[nltk_data]    |     /root/nltk_data...\n",
            "[nltk_data]    |   Unzipping grammars/large_grammars.zip.\n",
            "[nltk_data]    | Downloading package lin_thesaurus to\n",
            "[nltk_data]    |     /root/nltk_data...\n",
            "[nltk_data]    |   Unzipping corpora/lin_thesaurus.zip.\n",
            "[nltk_data]    | Downloading package mac_morpho to /root/nltk_data...\n",
            "[nltk_data]    |   Unzipping corpora/mac_morpho.zip.\n",
            "[nltk_data]    | Downloading package machado to /root/nltk_data...\n",
            "[nltk_data]    | Downloading package masc_tagged to /root/nltk_data...\n",
            "[nltk_data]    | Downloading package maxent_ne_chunker to\n",
            "[nltk_data]    |     /root/nltk_data...\n",
            "[nltk_data]    |   Unzipping chunkers/maxent_ne_chunker.zip.\n",
            "[nltk_data]    | Downloading package maxent_ne_chunker_tab to\n",
            "[nltk_data]    |     /root/nltk_data...\n",
            "[nltk_data]    |   Unzipping chunkers/maxent_ne_chunker_tab.zip.\n",
            "[nltk_data]    | Downloading package maxent_treebank_pos_tagger to\n",
            "[nltk_data]    |     /root/nltk_data...\n",
            "[nltk_data]    |   Unzipping taggers/maxent_treebank_pos_tagger.zip.\n",
            "[nltk_data]    | Downloading package maxent_treebank_pos_tagger_tab to\n",
            "[nltk_data]    |     /root/nltk_data...\n",
            "[nltk_data]    |   Unzipping\n",
            "[nltk_data]    |       taggers/maxent_treebank_pos_tagger_tab.zip.\n",
            "[nltk_data]    | Downloading package moses_sample to\n",
            "[nltk_data]    |     /root/nltk_data...\n",
            "[nltk_data]    |   Unzipping models/moses_sample.zip.\n",
            "[nltk_data]    | Downloading package movie_reviews to\n",
            "[nltk_data]    |     /root/nltk_data...\n",
            "[nltk_data]    |   Unzipping corpora/movie_reviews.zip.\n",
            "[nltk_data]    | Downloading package mte_teip5 to /root/nltk_data...\n",
            "[nltk_data]    |   Unzipping corpora/mte_teip5.zip.\n",
            "[nltk_data]    | Downloading package mwa_ppdb to /root/nltk_data...\n",
            "[nltk_data]    |   Unzipping misc/mwa_ppdb.zip.\n",
            "[nltk_data]    | Downloading package names to /root/nltk_data...\n",
            "[nltk_data]    |   Unzipping corpora/names.zip.\n",
            "[nltk_data]    | Downloading package nombank.1.0 to /root/nltk_data...\n",
            "[nltk_data]    | Downloading package nonbreaking_prefixes to\n",
            "[nltk_data]    |     /root/nltk_data...\n",
            "[nltk_data]    |   Unzipping corpora/nonbreaking_prefixes.zip.\n",
            "[nltk_data]    | Downloading package nps_chat to /root/nltk_data...\n",
            "[nltk_data]    |   Unzipping corpora/nps_chat.zip.\n",
            "[nltk_data]    | Downloading package omw to /root/nltk_data...\n",
            "[nltk_data]    | Downloading package omw-1.4 to /root/nltk_data...\n",
            "[nltk_data]    | Downloading package opinion_lexicon to\n",
            "[nltk_data]    |     /root/nltk_data...\n",
            "[nltk_data]    |   Unzipping corpora/opinion_lexicon.zip.\n",
            "[nltk_data]    | Downloading package panlex_swadesh to\n",
            "[nltk_data]    |     /root/nltk_data...\n",
            "[nltk_data]    | Downloading package paradigms to /root/nltk_data...\n",
            "[nltk_data]    |   Unzipping corpora/paradigms.zip.\n",
            "[nltk_data]    | Downloading package pe08 to /root/nltk_data...\n",
            "[nltk_data]    |   Unzipping corpora/pe08.zip.\n",
            "[nltk_data]    | Downloading package perluniprops to\n",
            "[nltk_data]    |     /root/nltk_data...\n",
            "[nltk_data]    |   Unzipping misc/perluniprops.zip.\n",
            "[nltk_data]    | Downloading package pil to /root/nltk_data...\n",
            "[nltk_data]    |   Unzipping corpora/pil.zip.\n",
            "[nltk_data]    | Downloading package pl196x to /root/nltk_data...\n",
            "[nltk_data]    |   Unzipping corpora/pl196x.zip.\n",
            "[nltk_data]    | Downloading package porter_test to /root/nltk_data...\n",
            "[nltk_data]    |   Unzipping stemmers/porter_test.zip.\n",
            "[nltk_data]    | Downloading package ppattach to /root/nltk_data...\n",
            "[nltk_data]    |   Unzipping corpora/ppattach.zip.\n",
            "[nltk_data]    | Downloading package problem_reports to\n",
            "[nltk_data]    |     /root/nltk_data...\n",
            "[nltk_data]    |   Unzipping corpora/problem_reports.zip.\n",
            "[nltk_data]    | Downloading package product_reviews_1 to\n",
            "[nltk_data]    |     /root/nltk_data...\n",
            "[nltk_data]    |   Unzipping corpora/product_reviews_1.zip.\n",
            "[nltk_data]    | Downloading package product_reviews_2 to\n",
            "[nltk_data]    |     /root/nltk_data...\n",
            "[nltk_data]    |   Unzipping corpora/product_reviews_2.zip.\n",
            "[nltk_data]    | Downloading package propbank to /root/nltk_data...\n",
            "[nltk_data]    | Downloading package pros_cons to /root/nltk_data...\n",
            "[nltk_data]    |   Unzipping corpora/pros_cons.zip.\n",
            "[nltk_data]    | Downloading package ptb to /root/nltk_data...\n",
            "[nltk_data]    |   Unzipping corpora/ptb.zip.\n",
            "[nltk_data]    | Downloading package punkt to /root/nltk_data...\n",
            "[nltk_data]    |   Unzipping tokenizers/punkt.zip.\n",
            "[nltk_data]    | Downloading package punkt_tab to /root/nltk_data...\n",
            "[nltk_data]    |   Unzipping tokenizers/punkt_tab.zip.\n",
            "[nltk_data]    | Downloading package qc to /root/nltk_data...\n",
            "[nltk_data]    |   Unzipping corpora/qc.zip.\n",
            "[nltk_data]    | Downloading package reuters to /root/nltk_data...\n",
            "[nltk_data]    | Downloading package rslp to /root/nltk_data...\n",
            "[nltk_data]    |   Unzipping stemmers/rslp.zip.\n",
            "[nltk_data]    | Downloading package rte to /root/nltk_data...\n",
            "[nltk_data]    |   Unzipping corpora/rte.zip.\n",
            "[nltk_data]    | Downloading package sample_grammars to\n",
            "[nltk_data]    |     /root/nltk_data...\n",
            "[nltk_data]    |   Unzipping grammars/sample_grammars.zip.\n",
            "[nltk_data]    | Downloading package semcor to /root/nltk_data...\n",
            "[nltk_data]    | Downloading package senseval to /root/nltk_data...\n",
            "[nltk_data]    |   Unzipping corpora/senseval.zip.\n",
            "[nltk_data]    | Downloading package sentence_polarity to\n",
            "[nltk_data]    |     /root/nltk_data...\n",
            "[nltk_data]    |   Unzipping corpora/sentence_polarity.zip.\n",
            "[nltk_data]    | Downloading package sentiwordnet to\n",
            "[nltk_data]    |     /root/nltk_data...\n",
            "[nltk_data]    |   Unzipping corpora/sentiwordnet.zip.\n",
            "[nltk_data]    | Downloading package shakespeare to /root/nltk_data...\n",
            "[nltk_data]    |   Unzipping corpora/shakespeare.zip.\n",
            "[nltk_data]    | Downloading package sinica_treebank to\n",
            "[nltk_data]    |     /root/nltk_data...\n",
            "[nltk_data]    |   Unzipping corpora/sinica_treebank.zip.\n",
            "[nltk_data]    | Downloading package smultron to /root/nltk_data...\n",
            "[nltk_data]    |   Unzipping corpora/smultron.zip.\n",
            "[nltk_data]    | Downloading package snowball_data to\n",
            "[nltk_data]    |     /root/nltk_data...\n",
            "[nltk_data]    | Downloading package spanish_grammars to\n",
            "[nltk_data]    |     /root/nltk_data...\n",
            "[nltk_data]    |   Unzipping grammars/spanish_grammars.zip.\n",
            "[nltk_data]    | Downloading package state_union to /root/nltk_data...\n",
            "[nltk_data]    |   Unzipping corpora/state_union.zip.\n",
            "[nltk_data]    | Downloading package stopwords to /root/nltk_data...\n",
            "[nltk_data]    |   Unzipping corpora/stopwords.zip.\n",
            "[nltk_data]    | Downloading package subjectivity to\n",
            "[nltk_data]    |     /root/nltk_data...\n",
            "[nltk_data]    |   Unzipping corpora/subjectivity.zip.\n",
            "[nltk_data]    | Downloading package swadesh to /root/nltk_data...\n",
            "[nltk_data]    |   Unzipping corpora/swadesh.zip.\n",
            "[nltk_data]    | Downloading package switchboard to /root/nltk_data...\n",
            "[nltk_data]    |   Unzipping corpora/switchboard.zip.\n",
            "[nltk_data]    | Downloading package tagsets to /root/nltk_data...\n",
            "[nltk_data]    |   Unzipping help/tagsets.zip.\n",
            "[nltk_data]    | Downloading package tagsets_json to\n",
            "[nltk_data]    |     /root/nltk_data...\n",
            "[nltk_data]    |   Unzipping help/tagsets_json.zip.\n",
            "[nltk_data]    | Downloading package timit to /root/nltk_data...\n",
            "[nltk_data]    |   Unzipping corpora/timit.zip.\n",
            "[nltk_data]    | Downloading package toolbox to /root/nltk_data...\n",
            "[nltk_data]    |   Unzipping corpora/toolbox.zip.\n",
            "[nltk_data]    | Downloading package treebank to /root/nltk_data...\n",
            "[nltk_data]    |   Unzipping corpora/treebank.zip.\n",
            "[nltk_data]    | Downloading package twitter_samples to\n",
            "[nltk_data]    |     /root/nltk_data...\n",
            "[nltk_data]    |   Unzipping corpora/twitter_samples.zip.\n",
            "[nltk_data]    | Downloading package udhr to /root/nltk_data...\n",
            "[nltk_data]    |   Unzipping corpora/udhr.zip.\n",
            "[nltk_data]    | Downloading package udhr2 to /root/nltk_data...\n",
            "[nltk_data]    |   Unzipping corpora/udhr2.zip.\n",
            "[nltk_data]    | Downloading package unicode_samples to\n",
            "[nltk_data]    |     /root/nltk_data...\n",
            "[nltk_data]    |   Unzipping corpora/unicode_samples.zip.\n",
            "[nltk_data]    | Downloading package universal_tagset to\n",
            "[nltk_data]    |     /root/nltk_data...\n",
            "[nltk_data]    |   Unzipping taggers/universal_tagset.zip.\n",
            "[nltk_data]    | Downloading package universal_treebanks_v20 to\n",
            "[nltk_data]    |     /root/nltk_data...\n",
            "[nltk_data]    | Downloading package vader_lexicon to\n",
            "[nltk_data]    |     /root/nltk_data...\n",
            "[nltk_data]    | Downloading package verbnet to /root/nltk_data...\n",
            "[nltk_data]    |   Unzipping corpora/verbnet.zip.\n",
            "[nltk_data]    | Downloading package verbnet3 to /root/nltk_data...\n",
            "[nltk_data]    |   Unzipping corpora/verbnet3.zip.\n",
            "[nltk_data]    | Downloading package webtext to /root/nltk_data...\n",
            "[nltk_data]    |   Unzipping corpora/webtext.zip.\n",
            "[nltk_data]    | Downloading package wmt15_eval to /root/nltk_data...\n",
            "[nltk_data]    |   Unzipping models/wmt15_eval.zip.\n",
            "[nltk_data]    | Downloading package word2vec_sample to\n",
            "[nltk_data]    |     /root/nltk_data...\n",
            "[nltk_data]    |   Unzipping models/word2vec_sample.zip.\n",
            "[nltk_data]    | Downloading package wordnet to /root/nltk_data...\n",
            "[nltk_data]    | Downloading package wordnet2021 to /root/nltk_data...\n",
            "[nltk_data]    | Downloading package wordnet2022 to /root/nltk_data...\n",
            "[nltk_data]    |   Unzipping corpora/wordnet2022.zip.\n",
            "[nltk_data]    | Downloading package wordnet31 to /root/nltk_data...\n",
            "[nltk_data]    | Downloading package wordnet_ic to /root/nltk_data...\n",
            "[nltk_data]    |   Unzipping corpora/wordnet_ic.zip.\n",
            "[nltk_data]    | Downloading package words to /root/nltk_data...\n",
            "[nltk_data]    |   Unzipping corpora/words.zip.\n",
            "[nltk_data]    | Downloading package ycoe to /root/nltk_data...\n",
            "[nltk_data]    |   Unzipping corpora/ycoe.zip.\n",
            "[nltk_data]    | \n",
            "[nltk_data]  Done downloading collection all\n"
          ]
        },
        {
          "output_type": "stream",
          "name": "stdout",
          "text": [
            "*** Introductory Examples for the NLTK Book ***\n",
            "Loading text1, ..., text9 and sent1, ..., sent9\n",
            "Type the name of the text or sentence to view it.\n",
            "Type: 'texts()' or 'sents()' to list the materials.\n",
            "text1: Moby Dick by Herman Melville 1851\n",
            "text2: Sense and Sensibility by Jane Austen 1811\n",
            "text3: The Book of Genesis\n",
            "text4: Inaugural Address Corpus\n",
            "text5: Chat Corpus\n",
            "text6: Monty Python and the Holy Grail\n",
            "text7: Wall Street Journal\n",
            "text8: Personals Corpus\n",
            "text9: The Man Who Was Thursday by G . K . Chesterton 1908\n"
          ]
        }
      ]
    },
    {
      "cell_type": "code",
      "source": [
        "text1 # print text title"
      ],
      "metadata": {
        "colab": {
          "base_uri": "https://localhost:8080/"
        },
        "id": "kFyfc9pf3FtW",
        "outputId": "ee8d69c9-be62-4cd5-9c70-419f0ca02c92"
      },
      "execution_count": null,
      "outputs": [
        {
          "output_type": "execute_result",
          "data": {
            "text/plain": [
              "<Text: Moby Dick by Herman Melville 1851>"
            ]
          },
          "metadata": {},
          "execution_count": 5
        }
      ]
    },
    {
      "cell_type": "code",
      "source": [
        "print(text1[1:100])"
      ],
      "metadata": {
        "colab": {
          "base_uri": "https://localhost:8080/"
        },
        "id": "Q2ycfp2AvBay",
        "outputId": "10f6bbc4-aa8d-4e85-97a6-9c907c1e6453"
      },
      "execution_count": null,
      "outputs": [
        {
          "output_type": "stream",
          "name": "stdout",
          "text": [
            "['Moby', 'Dick', 'by', 'Herman', 'Melville', '1851', ']', 'ETYMOLOGY', '.', '(', 'Supplied', 'by', 'a', 'Late', 'Consumptive', 'Usher', 'to', 'a', 'Grammar', 'School', ')', 'The', 'pale', 'Usher', '--', 'threadbare', 'in', 'coat', ',', 'heart', ',', 'body', ',', 'and', 'brain', ';', 'I', 'see', 'him', 'now', '.', 'He', 'was', 'ever', 'dusting', 'his', 'old', 'lexicons', 'and', 'grammars', ',', 'with', 'a', 'queer', 'handkerchief', ',', 'mockingly', 'embellished', 'with', 'all', 'the', 'gay', 'flags', 'of', 'all', 'the', 'known', 'nations', 'of', 'the', 'world', '.', 'He', 'loved', 'to', 'dust', 'his', 'old', 'grammars', ';', 'it', 'somehow', 'mildly', 'reminded', 'him', 'of', 'his', 'mortality', '.', '\"', 'While', 'you', 'take', 'in', 'hand', 'to', 'school', 'others', ',']\n"
          ]
        }
      ]
    },
    {
      "cell_type": "code",
      "source": [
        "text2 # print text title"
      ],
      "metadata": {
        "colab": {
          "base_uri": "https://localhost:8080/"
        },
        "id": "VTj-nn0i4Ac3",
        "outputId": "c0fd8217-083f-4a3d-8df3-69e5d678628d"
      },
      "execution_count": null,
      "outputs": [
        {
          "output_type": "execute_result",
          "data": {
            "text/plain": [
              "<Text: Sense and Sensibility by Jane Austen 1811>"
            ]
          },
          "metadata": {},
          "execution_count": 3
        }
      ]
    },
    {
      "cell_type": "code",
      "source": [
        "# what class type will we use?\n",
        "type (text1)"
      ],
      "metadata": {
        "colab": {
          "base_uri": "https://localhost:8080/",
          "height": 186
        },
        "id": "EPl-yErv4Ber",
        "outputId": "950fd7d7-1dfe-458a-8fa1-10eb039bc0c6"
      },
      "execution_count": null,
      "outputs": [
        {
          "output_type": "execute_result",
          "data": {
            "text/plain": [
              "nltk.text.Text"
            ],
            "text/html": [
              "<div style=\"max-width:800px; border: 1px solid var(--colab-border-color);\"><style>\n",
              "      pre.function-repr-contents {\n",
              "        overflow-x: auto;\n",
              "        padding: 8px 12px;\n",
              "        max-height: 500px;\n",
              "      }\n",
              "\n",
              "      pre.function-repr-contents.function-repr-contents-collapsed {\n",
              "        cursor: pointer;\n",
              "        max-height: 100px;\n",
              "      }\n",
              "    </style>\n",
              "    <pre style=\"white-space: initial; background:\n",
              "         var(--colab-secondary-surface-color); padding: 8px 12px;\n",
              "         border-bottom: 1px solid var(--colab-border-color);\"><b>nltk.text.Text</b><br/>def __init__(tokens, name=None)</pre><pre class=\"function-repr-contents function-repr-contents-collapsed\" style=\"\"><a class=\"filepath\" style=\"display:none\" href=\"#\">/usr/local/lib/python3.10/dist-packages/nltk/text.py</a>A wrapper around a sequence of simple (string) tokens, which is\n",
              "intended to support initial exploration of texts (via the\n",
              "interactive console).  Its methods perform a variety of analyses\n",
              "on the text&#x27;s contexts (e.g., counting, concordancing, collocation\n",
              "discovery), and display the results.  If you wish to write a\n",
              "program which makes use of these analyses, then you should bypass\n",
              "the ``Text`` class, and use the appropriate analysis function or\n",
              "class directly instead.\n",
              "\n",
              "A ``Text`` is typically initialized from a given document or\n",
              "corpus.  E.g.:\n",
              "\n",
              "&gt;&gt;&gt; import nltk.corpus\n",
              "&gt;&gt;&gt; from nltk.text import Text\n",
              "&gt;&gt;&gt; moby = Text(nltk.corpus.gutenberg.words(&#x27;melville-moby_dick.txt&#x27;))</pre>\n",
              "      <script>\n",
              "      if (google.colab.kernel.accessAllowed && google.colab.files && google.colab.files.view) {\n",
              "        for (const element of document.querySelectorAll('.filepath')) {\n",
              "          element.style.display = 'block'\n",
              "          element.onclick = (event) => {\n",
              "            event.preventDefault();\n",
              "            event.stopPropagation();\n",
              "            google.colab.files.view(element.textContent, 308);\n",
              "          };\n",
              "        }\n",
              "      }\n",
              "      for (const element of document.querySelectorAll('.function-repr-contents')) {\n",
              "        element.onclick = (event) => {\n",
              "          event.preventDefault();\n",
              "          event.stopPropagation();\n",
              "          element.classList.toggle('function-repr-contents-collapsed');\n",
              "        };\n",
              "      }\n",
              "      </script>\n",
              "      </div>"
            ]
          },
          "metadata": {},
          "execution_count": 4
        }
      ]
    },
    {
      "cell_type": "markdown",
      "source": [
        "### 1. Display contents and search text\n",
        "A method of displaying the interior of a text:\n",
        "* concordance: A notation called concordance that retrieves and compares the surroundings of a search term\n",
        "* similar: to retrieve similar words\n",
        "* common_contexts: Extract contexts shared by two or more words\n",
        "* dispersion_plot: Display the locations where a word appears in a graph\n",
        "* generate (not available since NLTK 3.0): generate new sentences randomly using the corresponding corpus"
      ],
      "metadata": {
        "id": "NhlcZq7Y4McB"
      }
    },
    {
      "cell_type": "code",
      "source": [
        "# Print internal list\n",
        "print(text1[1:100])"
      ],
      "metadata": {
        "colab": {
          "base_uri": "https://localhost:8080/"
        },
        "id": "zkbu3NSm4L_B",
        "outputId": "330d68a0-d0fe-42ca-dc2e-8107e710cb90"
      },
      "execution_count": null,
      "outputs": [
        {
          "output_type": "stream",
          "name": "stdout",
          "text": [
            "['Moby', 'Dick', 'by', 'Herman', 'Melville', '1851', ']', 'ETYMOLOGY', '.', '(', 'Supplied', 'by', 'a', 'Late', 'Consumptive', 'Usher', 'to', 'a', 'Grammar', 'School', ')', 'The', 'pale', 'Usher', '--', 'threadbare', 'in', 'coat', ',', 'heart', ',', 'body', ',', 'and', 'brain', ';', 'I', 'see', 'him', 'now', '.', 'He', 'was', 'ever', 'dusting', 'his', 'old', 'lexicons', 'and', 'grammars', ',', 'with', 'a', 'queer', 'handkerchief', ',', 'mockingly', 'embellished', 'with', 'all', 'the', 'gay', 'flags', 'of', 'all', 'the', 'known', 'nations', 'of', 'the', 'world', '.', 'He', 'loved', 'to', 'dust', 'his', 'old', 'grammars', ';', 'it', 'somehow', 'mildly', 'reminded', 'him', 'of', 'his', 'mortality', '.', '\"', 'While', 'you', 'take', 'in', 'hand', 'to', 'school', 'others', ',']\n"
          ]
        }
      ]
    },
    {
      "cell_type": "code",
      "source": [
        "# Text class has concordancer\n",
        "text1.concordance(\"Dick\")"
      ],
      "metadata": {
        "colab": {
          "base_uri": "https://localhost:8080/"
        },
        "id": "VQ4X8xTV4GS3",
        "outputId": "284c9568-235a-4698-f7f4-88c8042aa0d8"
      },
      "execution_count": null,
      "outputs": [
        {
          "output_type": "stream",
          "name": "stdout",
          "text": [
            "Displaying 25 of 84 matches:\n",
            "[ Moby Dick by Herman Melville 1851 ] ETYMOLOGY \n",
            "must be the same that some call Moby Dick .\" \" Moby Dick ?\" shouted Ahab . \" D\n",
            "e that some call Moby Dick .\" \" Moby Dick ?\" shouted Ahab . \" Do ye know the w\n",
            " Death and devils ! men , it is Moby Dick ye have seen -- Moby Dick -- Moby Di\n",
            "it is Moby Dick ye have seen -- Moby Dick -- Moby Dick !\" \" Captain Ahab ,\" sa\n",
            "ck ye have seen -- Moby Dick -- Moby Dick !\" \" Captain Ahab ,\" said Starbuck ,\n",
            " Captain Ahab , I have heard of Moby Dick -- but it was not Moby Dick that too\n",
            " of Moby Dick -- but it was not Moby Dick that took off thy leg ?\" \" Who told \n",
            " my hearties all round ; it was Moby Dick that dismasted me ; Moby Dick that b\n",
            "s Moby Dick that dismasted me ; Moby Dick that brought me to this dead stump I\n",
            "white whale ; a sharp lance for Moby Dick !\" \" God bless ye ,\" he seemed to ha\n",
            " white whale ? art not game for Moby Dick ?\" \" I am game for his crooked jaw ,\n",
            "l whaleboat ' s bow -- Death to Moby Dick ! God hunt us all , if we do not hun\n",
            "hunt us all , if we do not hunt Moby Dick to his death !\" The long , barbed st\n",
            "owels to feel fear ! CHAPTER 41 Moby Dick . I , Ishmael , was one of that crew\n",
            "ividualizing tidings concerning Moby Dick . It was hardly to be doubted , that\n",
            "on must have been no other than Moby Dick . Yet as of late the Sperm Whale fis\n",
            "ident ignorantly gave battle to Moby Dick ; such hunters , perhaps , for the m\n",
            "g and piling their terrors upon Moby Dick ; those things had gone far to shake\n",
            "ies , which eventually invested Moby Dick with new terrors unborrowed from any\n",
            "rmen recalled , in reference to Moby Dick , the earlier days of the Sperm Whal\n",
            "ngs were ready to give chase to Moby Dick ; and a still greater number who , c\n",
            " was the unearthly conceit that Moby Dick was ubiquitous ; that he had actuall\n",
            "their superstitions ; declaring Moby Dick not only ubiquitous , but immortal (\n",
            " shaped lower jaw beneath him , Moby Dick had reaped away Ahab ' s leg , as a \n"
          ]
        }
      ]
    },
    {
      "cell_type": "code",
      "source": [
        "# Text class has concordancer\n",
        "text2.concordance(\"monstrous\")"
      ],
      "metadata": {
        "colab": {
          "base_uri": "https://localhost:8080/"
        },
        "id": "uEn84z-tr_FY",
        "outputId": "a17578a8-8411-4625-efd4-5621c9134c49"
      },
      "execution_count": null,
      "outputs": [
        {
          "output_type": "stream",
          "name": "stdout",
          "text": [
            "Displaying 11 of 11 matches:\n",
            ". \" Now , Palmer , you shall see a monstrous pretty girl .\" He immediately went\n",
            "your sister is to marry him . I am monstrous glad of it , for then I shall have\n",
            "ou may tell your sister . She is a monstrous lucky girl to get him , upon my ho\n",
            "k how you will like them . Lucy is monstrous pretty , and so good humoured and \n",
            " Jennings , \" I am sure I shall be monstrous glad of Miss Marianne ' s company \n",
            " usual noisy cheerfulness , \" I am monstrous glad to see you -- sorry I could n\n",
            "t however , as it turns out , I am monstrous glad there was never any thing in \n",
            "so scornfully ! for they say he is monstrous fond of her , as well he may . I s\n",
            "possible that she should .\" \" I am monstrous glad of it . Good gracious ! I hav\n",
            "thing of the kind . So then he was monstrous happy , and talked on some time ab\n",
            "e very genteel people . He makes a monstrous deal of money , and they keep thei\n"
          ]
        }
      ]
    },
    {
      "cell_type": "code",
      "source": [
        "# Text class has similar function from concordancer\n",
        "text1.similar(\"monstrous\")"
      ],
      "metadata": {
        "colab": {
          "base_uri": "https://localhost:8080/"
        },
        "id": "3coDNRe64cGu",
        "outputId": "bd92fe40-2ff8-4aa4-f05a-b30b4cf6784b"
      },
      "execution_count": null,
      "outputs": [
        {
          "output_type": "stream",
          "name": "stdout",
          "text": [
            "true contemptible christian abundant few part mean careful puzzled\n",
            "mystifying passing curious loving wise doleful gamesome singular\n",
            "delightfully perilous fearless\n"
          ]
        }
      ]
    },
    {
      "cell_type": "code",
      "source": [
        "text2.similar(\"monstrous\")"
      ],
      "metadata": {
        "colab": {
          "base_uri": "https://localhost:8080/"
        },
        "id": "rFxLN6Pr4eT-",
        "outputId": "4c358dd7-503a-498a-d9c7-c4238ae11e95"
      },
      "execution_count": null,
      "outputs": [
        {
          "output_type": "stream",
          "name": "stdout",
          "text": [
            "very so exceedingly heartily a as good great extremely remarkably\n",
            "sweet vast amazingly\n"
          ]
        }
      ]
    },
    {
      "cell_type": "code",
      "source": [
        "text2.collocations(num=100,window_size=10)"
      ],
      "metadata": {
        "colab": {
          "base_uri": "https://localhost:8080/"
        },
        "id": "11B0CQeKsK2e",
        "outputId": "fd3ab737-03fa-4b12-e90c-9c998b209b62"
      },
      "execution_count": null,
      "outputs": [
        {
          "output_type": "stream",
          "name": "stdout",
          "text": [
            "Mrs Jennings; Colonel Brandon; Sir John; Lady Middleton; Mrs Dashwood;\n",
            "Mrs Ferrars; Miss Dashwood; every thing; thousand pounds; dare say;\n",
            "Miss Steeles; Miss Steele; every body; great deal; Harley Street;\n",
            "Berkeley Street; Mrs Palmer; drawing room; Miss Dashwoods; young man;\n",
            "Combe Magna; John Dashwood; every day; thousand year; Miss Morton;\n",
            "next morning; said Elinor; !-- !--; young ladies; low voice; hundred\n",
            "year; put end; lock hair; Mrs Smith; soon afterwards; took place; next\n",
            "day; half hour; Barton Park; self command; one another; piano forte;\n",
            "two thousand; Bartlett Buildings; ten minutes; Miss Grey; eyes fixed;\n",
            "cried Marianne; young men; card table; burst forth; hundred pounds;\n",
            "two three; Aye aye; four years; beg pardon; two days; whatever might;\n",
            "Conduit Street; replied Elinor; fifty pounds; Sir Middleton; good\n",
            "humoured; John Middleton; entered room; near Plymouth; laughed\n",
            "heartily; left room; almost every; ever since; five hundred; went\n",
            "away; body else; common prudence; Mrs John; three days; stay longer;\n",
            "presently added; young lady; Every thing; day two; many years; Lucy\n",
            "Steele; would allow; good natured; pause succeeded; Parsonage\n",
            "Michaelmas; three four; cannot bear; many people; last night; short\n",
            "time; sat table; Upon word; years old; three months; monstrous glad;\n",
            "could help; Lord bless; many weeks\n"
          ]
        }
      ]
    },
    {
      "cell_type": "code",
      "source": [
        "text2.generate(length=100)"
      ],
      "metadata": {
        "colab": {
          "base_uri": "https://localhost:8080/",
          "height": 191
        },
        "id": "64SEX6V_QUM6",
        "outputId": "9c20e7bb-bd8b-4f68-be48-e549da4dcf80"
      },
      "execution_count": null,
      "outputs": [
        {
          "output_type": "stream",
          "name": "stderr",
          "text": [
            "Building ngram index...\n"
          ]
        },
        {
          "output_type": "stream",
          "name": "stdout",
          "text": [
            "knew , had by this remembrance , and if , by rapid degrees , so long .\n",
            ", she could live without one another , and in her rambles . at least\n",
            "the last evening of a brother , could you know , from the first .\n",
            "Dashwood ? this gentleman himself , and must put up with a kindness\n",
            "which they are very much vexed at , for it -- and I shall keep it\n",
            "entirely . admire it ; and it is , explain the grounds , or if any\n",
            "place could give her ease , was a\n"
          ]
        },
        {
          "output_type": "execute_result",
          "data": {
            "text/plain": [
              "'knew , had by this remembrance , and if , by rapid degrees , so long .\\n, she could live without one another , and in her rambles . at least\\nthe last evening of a brother , could you know , from the first .\\nDashwood ? this gentleman himself , and must put up with a kindness\\nwhich they are very much vexed at , for it -- and I shall keep it\\nentirely . admire it ; and it is , explain the grounds , or if any\\nplace could give her ease , was a'"
            ],
            "application/vnd.google.colaboratory.intrinsic+json": {
              "type": "string"
            }
          },
          "metadata": {},
          "execution_count": 18
        }
      ]
    },
    {
      "cell_type": "code",
      "source": [
        "text4.count(\"citizens\")"
      ],
      "metadata": {
        "colab": {
          "base_uri": "https://localhost:8080/"
        },
        "id": "NfYi4UwkR9k5",
        "outputId": "61fcbacc-1a25-4382-ca2d-14bd662db979"
      },
      "execution_count": null,
      "outputs": [
        {
          "output_type": "execute_result",
          "data": {
            "text/plain": [
              "241"
            ]
          },
          "metadata": {},
          "execution_count": 25
        }
      ]
    },
    {
      "cell_type": "code",
      "source": [
        "# Text class has dispersion plot for position and frequency of the data\n",
        "text4.dispersion_plot([\"citizens\", \"democracy\", \"freedom\", \"duties\", \"America\"])"
      ],
      "metadata": {
        "id": "Ouov3tzk4geK",
        "outputId": "83a80a82-de56-4882-f59c-262bd00d58f3",
        "colab": {
          "base_uri": "https://localhost:8080/",
          "height": 472
        }
      },
      "execution_count": null,
      "outputs": [
        {
          "output_type": "display_data",
          "data": {
            "text/plain": [
              "<Figure size 640x480 with 1 Axes>"
            ],
            "image/png": "[encoded data removed]"
          },
          "metadata": {}
        }
      ]
    },
    {
      "cell_type": "markdown",
      "source": [
        "### 2. Document Features\n",
        "The text class created in NLTK is already parsed and has all the necessary information. Therefore, it is possible to count specific words by making full use of the for loop, but that would be very cumbersome, so the text class has a set of functions to display the characteristics of sentences. And by combining them well, it is easy to compute important sentence features.\n",
        "\n",
        "Displaying the status of the content of a word\n",
        "* len(A): displays the number of words in document A\n",
        "* soreted(): Sort the set in ascending order\n",
        "* set(): Number of words (vocabulary) in a document not allowing duplicates\n",
        "* len(set(A))/len(A)): measure of vocabulary richness (no more than one 1 in a vocabulary)\n",
        "* count(): Frequency of the word specified in the argument\n",
        "* 100 * A.count() / len(A): probability of occurrence of a particular word in document A"
      ],
      "metadata": {
        "id": "0s-7VzOv-R-j"
      }
    },
    {
      "cell_type": "code",
      "source": [
        "len(text3) # word count"
      ],
      "metadata": {
        "id": "fOFsIWPJ4h-P",
        "colab": {
          "base_uri": "https://localhost:8080/"
        },
        "outputId": "7519f38b-b1bd-4af7-d7b1-78361b1f96a7"
      },
      "execution_count": null,
      "outputs": [
        {
          "output_type": "execute_result",
          "data": {
            "text/plain": [
              "44764"
            ]
          },
          "metadata": {},
          "execution_count": 74
        }
      ]
    },
    {
      "cell_type": "code",
      "source": [
        "# Top 100 word sets in sorted text3\n",
        "print(sorted(set(text3))[1:100])"
      ],
      "metadata": {
        "colab": {
          "base_uri": "https://localhost:8080/"
        },
        "id": "H0qjFy0bSPtG",
        "outputId": "87fb539f-12f3-4ce4-bd5b-29a111ab830e"
      },
      "execution_count": null,
      "outputs": [
        {
          "output_type": "stream",
          "name": "stdout",
          "text": [
            "[\"'\", '(', ')', ',', ',)', '.', '.)', ':', ';', ';)', '?', '?)', 'A', 'Abel', 'Abelmizraim', 'Abidah', 'Abide', 'Abimael', 'Abimelech', 'Abr', 'Abrah', 'Abraham', 'Abram', 'Accad', 'Achbor', 'Adah', 'Adam', 'Adbeel', 'Admah', 'Adullamite', 'After', 'Aholibamah', 'Ahuzzath', 'Ajah', 'Akan', 'All', 'Allonbachuth', 'Almighty', 'Almodad', 'Also', 'Alvah', 'Alvan', 'Am', 'Amal', 'Amalek', 'Amalekites', 'Ammon', 'Amorite', 'Amorites', 'Amraphel', 'An', 'Anah', 'Anamim', 'And', 'Aner', 'Angel', 'Appoint', 'Aram', 'Aran', 'Ararat', 'Arbah', 'Ard', 'Are', 'Areli', 'Arioch', 'Arise', 'Arkite', 'Arodi', 'Arphaxad', 'Art', 'Arvadite', 'As', 'Asenath', 'Ashbel', 'Asher', 'Ashkenaz', 'Ashteroth', 'Ask', 'Asshur', 'Asshurim', 'Assyr', 'Assyria', 'At', 'Atad', 'Avith', 'Baalhanan', 'Babel', 'Bashemath', 'Be', 'Because', 'Becher', 'Bedad', 'Beeri', 'Beerlahairoi', 'Beersheba', 'Behold', 'Bela', 'Belah', 'Benam']\n"
          ]
        }
      ]
    },
    {
      "cell_type": "code",
      "source": [
        "#  Number of word types in text3\n",
        "len(set(text3))"
      ],
      "metadata": {
        "colab": {
          "base_uri": "https://localhost:8080/"
        },
        "id": "6YPcu2lgSVHC",
        "outputId": "dae658b2-ff1b-4ac2-9aea-0d77d7427113"
      },
      "execution_count": null,
      "outputs": [
        {
          "output_type": "execute_result",
          "data": {
            "text/plain": [
              "2789"
            ]
          },
          "metadata": {},
          "execution_count": 76
        }
      ]
    },
    {
      "cell_type": "code",
      "source": [
        "# Frequency of occurrence of the word 'smote' in text3\n",
        "text3.count(\"smote\")"
      ],
      "metadata": {
        "colab": {
          "base_uri": "https://localhost:8080/"
        },
        "id": "co0V6OPlSY8a",
        "outputId": "42e0af1a-1bbc-43af-d29a-8f5adad446b6"
      },
      "execution_count": null,
      "outputs": [
        {
          "output_type": "execute_result",
          "data": {
            "text/plain": [
              "5"
            ]
          },
          "metadata": {},
          "execution_count": 77
        }
      ]
    },
    {
      "cell_type": "code",
      "source": [
        "# Probability (%) of occurrence of the word 'a' in text4\n",
        "100. * text4.count('a') / len(text4)"
      ],
      "metadata": {
        "colab": {
          "base_uri": "https://localhost:8080/"
        },
        "id": "7b1ytqUsSclo",
        "outputId": "efb29705-cf1b-4ee9-f199-d8c250e5615f"
      },
      "execution_count": null,
      "outputs": [
        {
          "output_type": "execute_result",
          "data": {
            "text/plain": [
              "1.457806031353621"
            ]
          },
          "metadata": {},
          "execution_count": 78
        }
      ]
    },
    {
      "cell_type": "code",
      "source": [
        "# Define important sentence features as a function\n",
        "# Word diversity measures in documents\n",
        "def lexical_diversity(text):\n",
        "    return len(set(text)) / (1.0 * len(text))"
      ],
      "metadata": {
        "id": "vlPMng_TSeVp"
      },
      "execution_count": null,
      "outputs": []
    },
    {
      "cell_type": "code",
      "source": [
        "# text3 diversity measures\n",
        "print(\"text3: \", lexical_diversity(text3))\n",
        "# text5 diversity measures\n",
        "print(\"text5: \", lexical_diversity(text6))"
      ],
      "metadata": {
        "colab": {
          "base_uri": "https://localhost:8080/"
        },
        "id": "PvLJmBReSf8x",
        "outputId": "2a9e2634-8e07-44dd-99a1-9d5f221f2ada"
      },
      "execution_count": null,
      "outputs": [
        {
          "output_type": "stream",
          "name": "stdout",
          "text": [
            "text3:  0.06230453042623537\n",
            "text5:  0.1276595744680851\n"
          ]
        }
      ]
    },
    {
      "cell_type": "markdown",
      "source": [
        "### 3. Document processing as a list of words\n",
        "The following is a list of Python functions that can be used to process word lists effectively.\n",
        "\n",
        "* list function\n",
        "  * list.append(x): appends an element to the end of the list, equivalent to a[len(a):] = [x].\n",
        "  * list.extend(iterable): extends the list by adding all elements of iterable to the target list. a[len(a):] = equivalent to iterable.\n",
        "  * list.insert(i, x): inserts an element at the specified position. The first argument is the index of the list, and the insertion occurs immediately before the element with that index. Thus, a.insert(0, x) inserts at the beginning of the list. Also, a.insert(len(a), x) is equivalent to a.append(x).\n",
        "  * list.remove(x): removes the first element in the list with a value equal to x. If no element corresponds, a ValueError is raised.\n",
        "  * list.pop([i]): removes the element at the specified position in the list from the list and returns that element. If no index is specified, a.pop() removes the element at the end of the list and returns it. Again, the element is removed. (The square brackets on either side of i in the method usage (signature) only indicate that this argument is optional, so there is no need to enter square brackets. You will see this notation frequently in the Python Library Reference).\n",
        "  * list.clear(): removes all elements in the list, equivalent to del a[:].\n",
        "  * list.index(x[, start[, end]]): returns the position of the first element in the list with a value equal to x, indexed starting from zero. If no element corresponds, a ValueError is sent. The optional arguments start and end are interpreted as a slice notation and can be used to specify a search range for the list. The index returned is not relative to the start argument, but to the beginning of the entire list.\n",
        "  * list.count(x): returns the number of times x appears in the list.\n",
        "  * list.sort(key=None, reverse=False): sorts the list items using in-place operations. The argument can be used to customize the sorting method. See the description of sorted().\n",
        "  * list.reverse(): Reverse order the elements of the list using in-place operations.\n",
        "  * list.copy(): returns a shallow copy of the list, equivalent to a[:]."
      ],
      "metadata": {
        "id": "hw5ImrqD-sPR"
      }
    },
    {
      "cell_type": "code",
      "source": [
        "# Slicing\n",
        "print(text6[100:120])\n",
        "print(text6[100:120:2])"
      ],
      "metadata": {
        "colab": {
          "base_uri": "https://localhost:8080/"
        },
        "id": "G-rXoOPq-ptd",
        "outputId": "46ec85f0-9ad4-44f7-819c-ba173dd5228f"
      },
      "execution_count": null,
      "outputs": [
        {
          "output_type": "stream",
          "name": "stdout",
          "text": [
            "['search', 'of', 'knights', 'who', 'will', 'join', 'me', 'in', 'my', 'court', 'at', 'Camelot', '.', 'I', 'must', 'speak', 'with', 'your', 'lord', 'and']\n",
            "['search', 'knights', 'will', 'me', 'my', 'at', '.', 'must', 'with', 'lord']\n"
          ]
        }
      ]
    },
    {
      "cell_type": "code",
      "source": [
        "# append\n",
        "print(sent1)\n",
        "sent1.append(\"test\")\n",
        "print(sent1)"
      ],
      "metadata": {
        "colab": {
          "base_uri": "https://localhost:8080/"
        },
        "id": "V0JXNMX1ShYx",
        "outputId": "a6dec79b-4c3b-4b37-f91c-aa460c84ab0b"
      },
      "execution_count": null,
      "outputs": [
        {
          "output_type": "stream",
          "name": "stdout",
          "text": [
            "['Call', 'me', 'Ishmael', '.']\n",
            "['Call', 'me', 'Ishmael', '.', 'test']\n"
          ]
        }
      ]
    },
    {
      "cell_type": "code",
      "source": [
        "# extend\n",
        "print(sent1)\n",
        "sent1.extend(sent2)\n",
        "print(sent1)"
      ],
      "metadata": {
        "colab": {
          "base_uri": "https://localhost:8080/"
        },
        "id": "GeVMWaMh_QxT",
        "outputId": "a8b61fb7-2a56-465a-8703-eca18e8b8f4c"
      },
      "execution_count": null,
      "outputs": [
        {
          "output_type": "stream",
          "name": "stdout",
          "text": [
            "['Call', 'me', 'Ishmael', '.', 'test']\n",
            "['Call', 'me', 'Ishmael', '.', 'test', 'The', 'family', 'of', 'Dashwood', 'had', 'long', 'been', 'settled', 'in', 'Sussex', '.']\n"
          ]
        }
      ]
    },
    {
      "cell_type": "code",
      "source": [
        "# insert\n",
        "print(sent1)\n",
        "sent1.insert(3,\"Insert\")\n",
        "print(sent1)"
      ],
      "metadata": {
        "colab": {
          "base_uri": "https://localhost:8080/"
        },
        "id": "lTwSgC-3_Vgj",
        "outputId": "12ddbe3a-b591-4fcc-cee0-7d298341d758"
      },
      "execution_count": null,
      "outputs": [
        {
          "output_type": "stream",
          "name": "stdout",
          "text": [
            "['Call', 'me', 'Ishmael', '.', 'test', 'The', 'family', 'of', 'Dashwood', 'had', 'long', 'been', 'settled', 'in', 'Sussex', '.']\n",
            "['Call', 'me', 'Ishmael', 'Insert', '.', 'test', 'The', 'family', 'of', 'Dashwood', 'had', 'long', 'been', 'settled', 'in', 'Sussex', '.']\n"
          ]
        }
      ]
    },
    {
      "cell_type": "code",
      "source": [
        "# remove\n",
        "print(sent1)\n",
        "sent1.remove(\"Ishmael\")\n",
        "print(sent1)"
      ],
      "metadata": {
        "colab": {
          "base_uri": "https://localhost:8080/"
        },
        "id": "syOYEkLD_X9v",
        "outputId": "c20fb975-288b-4679-dd03-4385d4a86e5f"
      },
      "execution_count": null,
      "outputs": [
        {
          "output_type": "stream",
          "name": "stdout",
          "text": [
            "['Call', 'me', 'Ishmael', 'Insert', '.', 'test', 'The', 'family', 'of', 'Dashwood', 'had', 'long', 'been', 'settled', 'in', 'Sussex', '.']\n",
            "['Call', 'me', 'Insert', '.', 'test', 'The', 'family', 'of', 'Dashwood', 'had', 'long', 'been', 'settled', 'in', 'Sussex', '.']\n"
          ]
        }
      ]
    },
    {
      "cell_type": "code",
      "source": [
        "# pop\n",
        "print(sent1)\n",
        "print(sent1.pop(3))\n",
        "print(sent1)"
      ],
      "metadata": {
        "colab": {
          "base_uri": "https://localhost:8080/"
        },
        "id": "EqKNjXNf_bPJ",
        "outputId": "270525ef-09a5-4418-e1cf-fc55073cb081"
      },
      "execution_count": null,
      "outputs": [
        {
          "output_type": "stream",
          "name": "stdout",
          "text": [
            "['Call', 'me', 'Insert', '.', 'test', 'The', 'family', 'of', 'Dashwood', 'had', 'long', 'been', 'settled', 'in', 'Sussex', '.']\n",
            ".\n",
            "['Call', 'me', 'Insert', 'test', 'The', 'family', 'of', 'Dashwood', 'had', 'long', 'been', 'settled', 'in', 'Sussex', '.']\n"
          ]
        }
      ]
    },
    {
      "cell_type": "code",
      "source": [
        "#list.count:\n",
        "print(sent1.count(\"me\"))\n",
        "#list.sort:\n",
        "sent1.sort()\n",
        "print(sent1)\n",
        "#list.reverse:\n",
        "sent1.reverse()\n",
        "print(sent1)"
      ],
      "metadata": {
        "colab": {
          "base_uri": "https://localhost:8080/"
        },
        "id": "e67UBw9w_gjP",
        "outputId": "161bfe21-1730-4835-b6ad-ab1692049f38"
      },
      "execution_count": null,
      "outputs": [
        {
          "output_type": "stream",
          "name": "stdout",
          "text": [
            "1\n",
            "['.', 'Call', 'Dashwood', 'Insert', 'Sussex', 'The', 'been', 'family', 'had', 'in', 'long', 'me', 'of', 'settled', 'test']\n",
            "['test', 'settled', 'of', 'me', 'long', 'in', 'had', 'family', 'been', 'The', 'Sussex', 'Insert', 'Dashwood', 'Call', '.']\n"
          ]
        }
      ]
    },
    {
      "cell_type": "code",
      "source": [
        "sentn = sent1+sent2\n",
        "print(sentn)"
      ],
      "metadata": {
        "colab": {
          "base_uri": "https://localhost:8080/"
        },
        "id": "5SudzrwQsy_K",
        "outputId": "fa0ac629-5a22-4d27-92d8-908274814e58"
      },
      "execution_count": null,
      "outputs": [
        {
          "output_type": "stream",
          "name": "stdout",
          "text": [
            "['test', 'settled', 'of', 'me', 'long', 'in', 'had', 'family', 'been', 'The', 'Sussex', 'Insert', 'Dashwood', 'Call', '.', 'The', 'family', 'of', 'Dashwood', 'had', 'long', 'been', 'settled', 'in', 'Sussex', '.']\n"
          ]
        }
      ]
    },
    {
      "cell_type": "code",
      "source": [
        "textn = Text(sentn)"
      ],
      "metadata": {
        "id": "kFgHZNYhs5PS"
      },
      "execution_count": null,
      "outputs": []
    },
    {
      "cell_type": "markdown",
      "source": [
        "### 4. Statistics on document features\n",
        "Statistical processing is a very effective tool for extracting the content of a document. For example, since words contain semantics, the most frequent words in a document can be identified as the topic of the document. Let's try a simple way to perform this type of statistical processing."
      ],
      "metadata": {
        "id": "rOp7sZ20_u6f"
      }
    },
    {
      "cell_type": "code",
      "metadata": {
        "id": "WE37jgurzpxj",
        "colab": {
          "base_uri": "https://localhost:8080/"
        },
        "outputId": "d58dccd4-67b1-4be4-dcb9-f753712b36c5"
      },
      "source": [
        "# Preprocessing\n",
        "saying = ['After', 'all', 'is', 'said', 'and', 'done','more', 'is', 'said', 'than', 'done']\n",
        "## delete dupilicate words\n",
        "tokens = set(saying)\n",
        "print(tokens)\n",
        "# sorting。\n",
        "tokens = sorted(tokens)\n",
        "print(tokens)\n",
        "# find last 2 words\n",
        "print(tokens[-2:])"
      ],
      "execution_count": null,
      "outputs": [
        {
          "output_type": "stream",
          "name": "stdout",
          "text": [
            "{'and', 'said', 'done', 'more', 'is', 'After', 'all', 'than'}\n",
            "['After', 'all', 'and', 'done', 'is', 'more', 'said', 'than']\n",
            "['said', 'than']\n"
          ]
        }
      ]
    },
    {
      "cell_type": "code",
      "source": [
        "# word count\n",
        "fdist1 = FreqDist(text1)\n",
        "print(fdist1)\n",
        "print(fdist1.most_common(50)) #  find best 50 of frequent words"
      ],
      "metadata": {
        "colab": {
          "base_uri": "https://localhost:8080/"
        },
        "id": "mdsvfHrC_m5O",
        "outputId": "ec996f1a-228a-429d-ea1a-eb33853f10f0"
      },
      "execution_count": null,
      "outputs": [
        {
          "output_type": "stream",
          "name": "stdout",
          "text": [
            "<FreqDist with 19317 samples and 260819 outcomes>\n",
            "[(',', 18713), ('the', 13721), ('.', 6862), ('of', 6536), ('and', 6024), ('a', 4569), ('to', 4542), (';', 4072), ('in', 3916), ('that', 2982), (\"'\", 2684), ('-', 2552), ('his', 2459), ('it', 2209), ('I', 2124), ('s', 1739), ('is', 1695), ('he', 1661), ('with', 1659), ('was', 1632), ('as', 1620), ('\"', 1478), ('all', 1462), ('for', 1414), ('this', 1280), ('!', 1269), ('at', 1231), ('by', 1137), ('but', 1113), ('not', 1103), ('--', 1070), ('him', 1058), ('from', 1052), ('be', 1030), ('on', 1005), ('so', 918), ('whale', 906), ('one', 889), ('you', 841), ('had', 767), ('have', 760), ('there', 715), ('But', 705), ('or', 697), ('were', 680), ('now', 646), ('which', 640), ('?', 637), ('me', 627), ('like', 624)]\n"
          ]
        }
      ]
    },
    {
      "cell_type": "code",
      "source": [
        "print(fdist1['whale']) # print frequency of 'whale' in text1\n",
        "print(fdist1.plot(50, cumulative=False)) # plot histogram"
      ],
      "metadata": {
        "colab": {
          "base_uri": "https://localhost:8080/",
          "height": 512
        },
        "id": "Ff2KVBLz_jos",
        "outputId": "bf3eb7cc-0d6c-4414-a2d7-c2a9049c6188"
      },
      "execution_count": null,
      "outputs": [
        {
          "output_type": "stream",
          "name": "stdout",
          "text": [
            "906\n"
          ]
        },
        {
          "output_type": "display_data",
          "data": {
            "text/plain": [
              "<Figure size 640x480 with 1 Axes>"
            ],
            "image/png": "[encoded data removed]"
          },
          "metadata": {}
        },
        {
          "output_type": "stream",
          "name": "stdout",
          "text": [
            "Axes(0.125,0.11;0.775x0.77)\n"
          ]
        }
      ]
    },
    {
      "cell_type": "code",
      "source": [
        "# Cumulative histogram\n",
        "print(fdist1.plot(50, cumulative=True))"
      ],
      "metadata": {
        "colab": {
          "base_uri": "https://localhost:8080/",
          "height": 494
        },
        "id": "S4cZdSNAAROS",
        "outputId": "dcd4ddfe-4376-4e4c-838a-8d90aa893811"
      },
      "execution_count": null,
      "outputs": [
        {
          "output_type": "display_data",
          "data": {
            "text/plain": [
              "<Figure size 640x480 with 1 Axes>"
            ],
            "image/png": "[encoded data removed]"
          },
          "metadata": {}
        },
        {
          "output_type": "stream",
          "name": "stdout",
          "text": [
            "Axes(0.125,0.11;0.775x0.77)\n"
          ]
        }
      ]
    },
    {
      "cell_type": "markdown",
      "source": [
        "### 3. Word search using set theory\n",
        "\n",
        "It is common to search for words using set operations, which are somewhat confusing in C and Java due to the large number of for loops when trying to implement set operations, but in Python, they can be easily described by using in reserved words. For example.\n",
        "\n",
        "{w | W ∈ V & P (W) }\n",
        "can be written as\n",
        "\n",
        "[w for W in V if P(W)] ← Python notation is here\n",
        "is now"
      ],
      "metadata": {
        "id": "DrGbjBKfAXPz"
      }
    },
    {
      "cell_type": "code",
      "source": [
        "# get a set of word list from text1\n",
        "V = set(text1)\n",
        "# pickup long words greater than 15\n",
        "long_words = [w for w in V if len(w) > 15]\n",
        "# list\n",
        "print(sorted(long_words))"
      ],
      "metadata": {
        "colab": {
          "base_uri": "https://localhost:8080/"
        },
        "id": "DTag9-vLAXEy",
        "outputId": "865d5bd1-3b03-4e36-ba4e-b4640b3c7cb1"
      },
      "execution_count": null,
      "outputs": [
        {
          "output_type": "stream",
          "name": "stdout",
          "text": [
            "['CIRCUMNAVIGATION', 'Physiognomically', 'apprehensiveness', 'cannibalistically', 'characteristically', 'circumnavigating', 'circumnavigation', 'circumnavigations', 'comprehensiveness', 'hermaphroditical', 'indiscriminately', 'indispensableness', 'irresistibleness', 'physiognomically', 'preternaturalness', 'responsibilities', 'simultaneousness', 'subterraneousness', 'supernaturalness', 'superstitiousness', 'uncomfortableness', 'uncompromisedness', 'undiscriminating', 'uninterpenetratingly']\n"
          ]
        }
      ]
    },
    {
      "cell_type": "code",
      "source": [
        "# word frequency list from text5\n",
        "fdist5 = FreqDist(text5)\n",
        "# listing as word length greather than 7 and word count more than 7.\n",
        "print(sorted(w for w in set(text5) if len(w) > 7 and fdist5[w] > 7))"
      ],
      "metadata": {
        "colab": {
          "base_uri": "https://localhost:8080/"
        },
        "id": "N6WvtxVtAU0X",
        "outputId": "869a9843-05e7-4ce8-c69b-f4b811605c2e"
      },
      "execution_count": null,
      "outputs": [
        {
          "output_type": "stream",
          "name": "stdout",
          "text": [
            "['#14-19teens', '#talkcity_adults', '((((((((((', '........', 'Question', 'actually', 'anything', 'computer', 'cute.-ass', 'everyone', 'football', 'innocent', 'listening', 'remember', 'seriously', 'something', 'together', 'tomorrow', 'watching']\n"
          ]
        }
      ]
    },
    {
      "cell_type": "markdown",
      "source": [
        "### 4. Collocation\n",
        "Collocation is an important concept for understanding place names, person names, and idioms in English. In order to obtain such collocations, it is necessary to know the frequency of words that are next to each other, so it is necessary to extract Bigram (two-word collocation), Trigram (three-word collocation), etc. Try the following examples to learn more about these methods."
      ],
      "metadata": {
        "id": "xfpWHYN8A77o"
      }
    },
    {
      "cell_type": "code",
      "source": [
        "# Bigram\n",
        "print(list(bigrams(['more', 'is', 'said', 'than', 'done'])))\n",
        "# Trigram\n",
        "from nltk.util import ngrams\n",
        "print(list(ngrams(['more', 'is', 'said', 'than', 'done'], 3)))"
      ],
      "metadata": {
        "colab": {
          "base_uri": "https://localhost:8080/"
        },
        "id": "cvKbYDELA7pX",
        "outputId": "aea87071-6fdf-4eda-9d3a-7ec91e9a44f2"
      },
      "execution_count": null,
      "outputs": [
        {
          "output_type": "stream",
          "name": "stdout",
          "text": [
            "[('more', 'is'), ('is', 'said'), ('said', 'than'), ('than', 'done')]\n",
            "[('more', 'is', 'said'), ('is', 'said', 'than'), ('said', 'than', 'done')]\n"
          ]
        }
      ]
    },
    {
      "cell_type": "code",
      "source": [
        "# Getting concatenated words and phrases from parsed text\n",
        "# There seems to be a serious bug now, need ',' in delimiter with join.\n",
        "print(text4.collocations())\n",
        "print(text8.collocations())"
      ],
      "metadata": {
        "colab": {
          "base_uri": "https://localhost:8080/"
        },
        "id": "4tD2--pdBCTq",
        "outputId": "fa719869-17ca-467a-95fa-e5d25fad55d5"
      },
      "execution_count": null,
      "outputs": [
        {
          "output_type": "stream",
          "name": "stdout",
          "text": [
            "United States; fellow citizens; years ago; four years; Federal\n",
            "Government; General Government; American people; Vice President; God\n",
            "bless; Chief Justice; one another; fellow Americans; Old World;\n",
            "Almighty God; Fellow citizens; Chief Magistrate; every citizen; Indian\n",
            "tribes; public debt; foreign nations\n",
            "None\n",
            "would like; medium build; social drinker; quiet nights; non smoker;\n",
            "long term; age open; Would like; easy going; financially secure; fun\n",
            "times; similar interests; Age open; weekends away; poss rship; well\n",
            "presented; never married; single mum; permanent relationship; slim\n",
            "build\n",
            "None\n"
          ]
        }
      ]
    },
    {
      "cell_type": "markdown",
      "source": [
        "### 5. Combination with counting and indexing\n",
        "\n",
        "Combining the methods we have learned so far, we can do something a little more complex. For example, we can calculate the \"frequency of word lengths\" in a document and obtain the frequency distribution. The combination is to use the function len() to get the word length and the function FreqDist() to get the frequency."
      ],
      "metadata": {
        "id": "QnfZOIKBBPfR"
      }
    },
    {
      "cell_type": "code",
      "source": [
        "# Find \"word length\" frequency\n",
        "fdist = FreqDist(len(w) for w in text1)\n",
        "print(fdist.most_common())"
      ],
      "metadata": {
        "colab": {
          "base_uri": "https://localhost:8080/"
        },
        "id": "HOlFUArTBIKM",
        "outputId": "a7cedf27-d5b7-40d0-881a-70ec0554f820"
      },
      "execution_count": null,
      "outputs": [
        {
          "output_type": "stream",
          "name": "stdout",
          "text": [
            "[(3, 50223), (1, 47933), (4, 42345), (2, 38513), (5, 26597), (6, 17111), (7, 14399), (8, 9966), (9, 6428), (10, 3528), (11, 1873), (12, 1053), (13, 567), (14, 177), (15, 70), (16, 22), (17, 12), (18, 1), (20, 1)]\n"
          ]
        }
      ]
    },
    {
      "cell_type": "code",
      "source": [
        "print(fdist.max(), fdist[fdist.max()], fdist.freq(fdist.max()))"
      ],
      "metadata": {
        "colab": {
          "base_uri": "https://localhost:8080/"
        },
        "id": "03alpRrTBfyc",
        "outputId": "107ec0ba-a25a-4cde-b3b7-86bc68cb54cf"
      },
      "execution_count": null,
      "outputs": [
        {
          "output_type": "stream",
          "name": "stdout",
          "text": [
            "3 50223 0.19255882431878046\n"
          ]
        }
      ]
    },
    {
      "cell_type": "code",
      "source": [],
      "metadata": {
        "id": "q3JjZHw6n-JO"
      },
      "execution_count": null,
      "outputs": []
    },
    {
      "cell_type": "markdown",
      "source": [
        "# NLPDL Report Exercise 1\n",
        "## Calculate Document Feature\n",
        "Please use \"text1\" and \"text2\" for your exercise.\n",
        "\n",
        "*   Please calculate word counts and list words decendent order (until top 100).\n",
        "*   Please calculate word collocation list in each texts and compare them (until 20 collocations)\n",
        "*   Please calculate bigram pattern frequency and list bigram pattern decendent order (until top 100)\n",
        "*   Please calculate trigram pattern freqency and list trigram pattern decendent order (until top 100)\n",
        "\n"
      ],
      "metadata": {
        "id": "TIXmSGkEuO8e"
      }
    },
    {
      "cell_type": "code",
      "source": [
        "from nltk import FreqDist, bigrams, trigrams\n",
        "from nltk.collocations import BigramCollocationFinder, TrigramCollocationFinder\n",
        "from nltk.metrics import BigramAssocMeasures, TrigramAssocMeasures\n",
        "from collections import Counter\n",
        "\n",
        "# 1. Calculate word frequency and top 100 words in descending order\n",
        "fdist_text1 = FreqDist(text1)\n",
        "fdist_text2 = FreqDist(text2)\n",
        "\n",
        "top_100_text1 = fdist_text1.most_common(100)\n",
        "top_100_text2 = fdist_text2.most_common(100)\n",
        "\n",
        "print(\"Top 100 words in text1:\", top_100_text1)\n",
        "print(\"Top 100 words in text2:\", top_100_text2)\n",
        "\n",
        "# 2. Calculate bigram collocations (Top 20)\n",
        "finder_text1_bigrams = BigramCollocationFinder.from_words(text1)\n",
        "finder_text2_bigrams = BigramCollocationFinder.from_words(text2)\n",
        "\n",
        "top_20_bigrams_text1 = finder_text1_bigrams.nbest(BigramAssocMeasures.likelihood_ratio, 20)\n",
        "top_20_bigrams_text2 = finder_text2_bigrams.nbest(BigramAssocMeasures.likelihood_ratio, 20)\n",
        "\n",
        "print(\"Top 20 bigram collocations in text1:\", top_20_bigrams_text1)\n",
        "print(\"Top 20 bigram collocations in text2:\", top_20_bigrams_text2)\n",
        "\n",
        "# 3. Calculate bigram frequency (Top 100)\n",
        "bigrams_text1 = list(bigrams(text1))\n",
        "bigrams_text2 = list(bigrams(text2))\n",
        "\n",
        "bigram_freq_text1 = Counter(bigrams_text1)\n",
        "bigram_freq_text2 = Counter(bigrams_text2)\n",
        "\n",
        "top_100_bigrams_text1 = bigram_freq_text1.most_common(100)\n",
        "top_100_bigrams_text2 = bigram_freq_text2.most_common(100)\n",
        "\n",
        "print(\"Top 100 bigrams in text1:\", top_100_bigrams_text1)\n",
        "print(\"Top 100 bigrams in text2:\", top_100_bigrams_text2)\n",
        "\n",
        "# 4. Calculate trigram frequency (Top 100)\n",
        "trigrams_text1 = list(trigrams(text1))\n",
        "trigrams_text2 = list(trigrams(text2))\n",
        "\n",
        "trigram_freq_text1 = Counter(trigrams_text1)\n",
        "trigram_freq_text2 = Counter(trigrams_text2)\n",
        "\n",
        "top_100_trigrams_text1 = trigram_freq_text1.most_common(100)\n",
        "top_100_trigrams_text2 = trigram_freq_text2.most_common(100)\n",
        "\n",
        "print(\"Top 100 trigrams in text1:\", top_100_trigrams_text1)\n",
        "print(\"Top 100 trigrams in text2:\", top_100_trigrams_text2)"
      ],
      "metadata": {
        "id": "GbwXwyKwuOh5",
        "colab": {
          "base_uri": "https://localhost:8080/"
        },
        "outputId": "4b043ad5-0f5a-4cc6-8cee-fa9f78ec9bbf"
      },
      "execution_count": null,
      "outputs": [
        {
          "output_type": "stream",
          "name": "stdout",
          "text": [
            "Top 100 words in text1: [(',', 18713), ('the', 13721), ('.', 6862), ('of', 6536), ('and', 6024), ('a', 4569), ('to', 4542), (';', 4072), ('in', 3916), ('that', 2982), (\"'\", 2684), ('-', 2552), ('his', 2459), ('it', 2209), ('I', 2124), ('s', 1739), ('is', 1695), ('he', 1661), ('with', 1659), ('was', 1632), ('as', 1620), ('\"', 1478), ('all', 1462), ('for', 1414), ('this', 1280), ('!', 1269), ('at', 1231), ('by', 1137), ('but', 1113), ('not', 1103), ('--', 1070), ('him', 1058), ('from', 1052), ('be', 1030), ('on', 1005), ('so', 918), ('whale', 906), ('one', 889), ('you', 841), ('had', 767), ('have', 760), ('there', 715), ('But', 705), ('or', 697), ('were', 680), ('now', 646), ('which', 640), ('?', 637), ('me', 627), ('like', 624), ('The', 612), ('their', 612), ('are', 586), ('they', 586), ('an', 582), ('some', 578), ('then', 571), ('my', 564), ('when', 553), ('upon', 538), ('out', 529), ('into', 520), ('man', 508), ('ship', 507), ('up', 505), ('more', 501), ('Ahab', 501), ('.\"', 489), ('no', 484), ('them', 471), ('ye', 460), ('what', 442), ('old', 436), ('sea', 433), ('would', 421), ('if', 421), ('been', 415), ('we', 413), ('other', 412), ('over', 403), ('these', 381), ('will', 379), ('its', 372), ('And', 369), ('down', 364), ('only', 360), ('such', 336), ('head', 335), ('though', 335), ('boat', 330), ('her', 329), ('time', 324), ('any', 320), ('who', 319), ('long', 318), ('very', 311), ('It', 310), ('than', 309), ('!\"', 305), ('about', 304)]\n",
            "Top 100 words in text2: [(',', 9397), ('to', 4063), ('.', 3975), ('the', 3861), ('of', 3565), ('and', 3350), ('her', 2436), ('a', 2043), ('I', 2004), ('in', 1904), ('was', 1846), ('it', 1568), ('\"', 1506), (';', 1419), ('she', 1333), ('be', 1305), ('that', 1297), ('for', 1234), ('not', 1212), ('as', 1179), ('you', 1037), ('with', 971), ('had', 969), ('his', 941), ('he', 895), (\"'\", 883), ('have', 807), ('at', 806), ('by', 737), ('is', 728), ('.\"', 721), ('s', 700), ('Elinor', 684), ('on', 676), ('all', 642), ('him', 633), ('so', 617), ('but', 597), ('which', 592), ('could', 568), ('Marianne', 566), ('my', 551), ('Mrs', 530), ('from', 527), ('would', 507), ('very', 492), ('no', 488), ('their', 463), ('them', 462), ('--', 461), ('been', 440), ('were', 437), ('me', 433), ('they', 428), ('more', 406), ('said', 397), (',\"', 396), ('any', 389), ('what', 375), ('this', 372), ('-', 366), ('every', 361), ('than', 360), ('will', 354), ('or', 353), ('your', 347), ('an', 346), ('such', 340), ('one', 304), ('do', 296), ('But', 289), ('!', 289), ('much', 287), ('sister', 282), ('only', 282), ('must', 279), ('own', 271), ('am', 270), ('Edward', 262), ('when', 261), ('who', 260), ('mother', 258), ('She', 258), ('herself', 255), ('Dashwood', 252), ('if', 249), ('The', 243), ('time', 237), ('know', 230), ('Jennings', 230), ('should', 228), ('are', 224), ('might', 215), ('Willoughby', 215), ('?\"', 213), ('did', 211), ('now', 210), ('there', 209), ('think', 209), ('Miss', 208)]\n",
            "Top 20 bigram collocations in text1: [(\"'\", 's'), (',', 'and'), ('of', 'the'), ('.', 'But'), (\"'\", 't'), (';', 'and'), ('in', 'the'), ('.', '\"'), ('.\"', '\"'), ('.', 'The'), ('Sperm', 'Whale'), (';', 'but'), ('Moby', 'Dick'), ('.', 'And'), (',\"', 'said'), ('.', 'It'), ('to', 'be'), ('?\"', '\"'), ('from', 'the'), ('.', 'In')]\n",
            "Top 20 bigram collocations in text2: [(\"'\", 's'), (',', 'and'), ('Mrs', '.'), ('.\"', '\"'), (';', 'and'), (',\"', 'said'), ('Colonel', 'Brandon'), ('I', 'am'), ('.', 'Jennings'), ('Sir', 'John'), ('Lady', 'Middleton'), ('to', 'be'), (';', 'but'), ('Mr', '.'), ('.', 'The'), ('.', 'She'), ('have', 'been'), ('.', 'But'), ('.', '\"'), ('?\"', '\"')]\n",
            "Top 100 bigrams in text1: [((',', 'and'), 2607), (('of', 'the'), 1847), ((\"'\", 's'), 1737), (('in', 'the'), 1120), ((',', 'the'), 908), ((';', 'and'), 853), (('to', 'the'), 712), (('.', 'But'), 596), ((',', 'that'), 584), (('.', '\"'), 557), ((',', 'as'), 523), ((',', 'I'), 461), ((',', 'he'), 446), (('from', 'the'), 428), ((',', 'in'), 402), (('of', 'his'), 371), (('the', 'whale'), 369), (('.', 'The'), 369), (('and', 'the'), 357), ((';', 'but'), 340), ((',', 'but'), 339), (('of', 'a'), 327), (('on', 'the'), 326), (('to', 'be'), 320), (('at', 'the'), 316), (('with', 'the'), 308), (('by', 'the'), 301), (('for', 'the'), 285), ((\"'\", 't'), 277), (('.', 'And'), 261), ((',', 'with'), 260), (('.', 'I'), 260), ((',', 'or'), 257), (('in', 'his'), 253), (('.\"', '\"'), 246), (('into', 'the'), 246), (('in', 'a'), 240), ((',', 'when'), 238), (('.', 'It'), 238), ((',', 'it'), 238), (('the', 'ship'), 235), (('it', ','), 234), (('with', 'a'), 233), (('him', ','), 232), ((';', 'the'), 226), ((',', 'to'), 224), (('the', 'sea'), 223), ((',', 'which'), 217), (('upon', 'the'), 216), (('that', 'the'), 215), (('as', 'the'), 204), ((',', 'so'), 201), (('all', 'the'), 198), (('it', 'is'), 198), (('it', 'was'), 196), ((',', 'a'), 193), (('.', 'In'), 183), ((',', 'for'), 181), ((',', '\"'), 179), (('.', 'He'), 178), (('whale', ','), 174), (('then', ','), 172), ((',', 'you'), 171), (('it', '.'), 171), (('out', 'of'), 170), (('.', 'For'), 167), ((',', 'then'), 166), (('the', 'same'), 159), ((',', 'they'), 158), (('for', 'a'), 158), (('like', 'a'), 157), (('the', 'Pequod'), 147), (('?\"', '\"'), 146), (('me', ','), 145), (('one', 'of'), 144), ((',', 'is'), 143), ((',', 'by'), 140), (('to', 'his'), 140), ((',', 'who'), 139), (('is', 'the'), 138), (('the', 'other'), 135), ((',', 'sir'), 135), (('I', \"'\"), 134), ((',', 'though'), 133), (('over', 'the'), 133), (('of', 'all'), 132), (('of', 'this'), 132), ((',', 'like'), 132), ((',', 'was'), 132), ((',\"', 'said'), 131), (('of', 'that'), 129), (('and', 'then'), 129), (('as', 'if'), 128), (('sort', 'of'), 126), (('at', 'last'), 126), ((';', 'for'), 124), (('as', 'a'), 124), (('was', 'a'), 123), (('have', 'been'), 122), (('such', 'a'), 122)]\n",
            "Top 100 bigrams in text2: [((',', 'and'), 1598), ((\"'\", 's'), 700), ((';', 'and'), 605), (('Mrs', '.'), 529), (('of', 'the'), 430), (('to', 'be'), 428), (('.\"', '\"'), 428), ((',', '\"'), 392), (('.', '\"'), 369), (('in', 'the'), 348), ((',', 'I'), 335), ((',', 'as'), 304), (('of', 'her'), 275), ((',', 'she'), 267), (('.', 'I'), 259), ((',', 'that'), 256), (('to', 'the'), 237), ((',', 'to'), 235), (('.', 'Jennings'), 230), (('\"', 'I'), 229), ((';', 'but'), 226), (('I', 'am'), 223), (('to', 'her'), 221), ((',', 'in'), 219), ((',', 'for'), 218), ((',\"', 'said'), 211), (('Elinor', ','), 203), (('of', 'his'), 202), (('it', 'was'), 201), (('.', 'But'), 199), (('.', 'She'), 199), (('.', 'The'), 197), (('I', 'have'), 192), ((',', 'which'), 187), (('Mr', '.'), 178), ((',', 'but'), 168), ((',', 'was'), 167), ((',', 'with'), 167), (('Marianne', ','), 166), (('she', 'had'), 163), (('could', 'not'), 161), ((',', 'the'), 159), (('have', 'been'), 158), (('at', 'the'), 158), (('she', 'was'), 157), (('on', 'the'), 151), (('and', 'the'), 149), (('her', ','), 149), (('of', 'a'), 148), (('her', 'sister'), 144), ((',', 'who'), 142), ((',', 'he'), 142), (('.', 'He'), 141), (('it', ','), 141), (('in', 'a'), 140), (('?\"', '\"'), 139), ((',', 'by'), 138), (('.', 'Dashwood'), 136), ((',', 'or'), 133), (('Colonel', 'Brandon'), 132), (('for', 'the'), 131), ((',', 'it'), 129), (('of', 'it'), 128), ((',', 'though'), 128), (('it', 'is'), 128), (('it', '.'), 126), (('.', 'It'), 126), (('was', 'not'), 124), (('had', 'been'), 123), (('with', 'a'), 123), ((';', 'for'), 122), (('her', 'own'), 120), (('such', 'a'), 119), (('did', 'not'), 118), (('in', 'her'), 116), (('by', 'the'), 114), (('her', 'mother'), 114), (('and', 'I'), 114), (('that', 'she'), 114), (('as', 'she'), 112), (('Sir', 'John'), 112), ((',', 'however'), 111), ((',', 'when'), 111), (('from', 'the'), 107), (('.', 'Ferrars'), 105), (('a', 'very'), 102), (('the', 'same'), 99), (('.', 'Elinor'), 98), (('not', 'be'), 98), (('all', 'the'), 96), (('however', ','), 96), (('would', 'not'), 96), (('that', 'he'), 96), (('of', 'their'), 95), (('would', 'be'), 95), (('Lady', 'Middleton'), 95), (('him', ','), 94), (('he', 'had'), 93), (('to', 'see'), 93), (('and', 'her'), 92)]\n",
            "Top 100 trigrams in text1: [((',', 'and', 'the'), 187), (('don', \"'\", 't'), 103), (('of', 'the', 'whale'), 101), ((',', 'in', 'the'), 93), ((',', 'then', ','), 87), (('whale', \"'\", 's'), 81), (('.', 'It', 'was'), 81), (('ship', \"'\", 's'), 80), (('the', 'Sperm', 'Whale'), 77), ((',', 'as', 'if'), 76), (('he', \"'\", 's'), 76), (('Ahab', \"'\", 's'), 75), (('.', 'Now', ','), 74), ((\"'\", 's', 'a'), 73), ((\"'\", 's', 'the'), 72), (('that', \"'\", 's'), 69), ((',', 'as', 'the'), 68), (('the', 'sea', ','), 67), (('it', \"'\", 's'), 67), ((',', 'and', 'then'), 67), (('.', 'It', 'is'), 63), (('I', \"'\", 'll'), 63), (('the', 'White', 'Whale'), 63), (('the', 'whale', ','), 62), (('one', 'of', 'the'), 61), (('of', 'the', 'sea'), 60), ((';', 'and', 'the'), 58), ((',', 'and', 'with'), 55), ((',', 'so', 'that'), 55), (('out', 'of', 'the'), 54), (('part', 'of', 'the'), 53), (('the', 'ship', \"'\"), 52), ((',', 'when', 'the'), 52), ((',', 'that', 'the'), 51), (('a', 'sort', 'of'), 51), ((',', 'too', ','), 51), (('man', \"'\", 's'), 51), ((',', 'and', 'a'), 50), ((',', 'and', 'in'), 49), (('the', 'whale', \"'\"), 49), (('.', 'But', 'the'), 49), (('Pequod', \"'\", 's'), 49), ((',', 'with', 'a'), 48), ((',', 'I', 'say'), 46), (('the', 'Pequod', \"'\"), 45), ((',', 'with', 'the'), 44), ((',', 'it', 'is'), 44), ((',', 'sir', ','), 43), (('him', ',', 'and'), 43), (('the', 'sea', '.'), 43), (('Whale', \"'\", 's'), 43), (('the', 'ship', ','), 42), ((',', 'which', ','), 42), ((',', 'and', 'I'), 42), (('I', 'say', ','), 42), ((',', 'and', 'that'), 41), (('mast', '-', 'head'), 40), ((',', 'like', 'a'), 40), (('it', ',', 'and'), 40), (('there', \"'\", 's'), 40), (('.', 'In', 'the'), 40), (('the', 'deck', ','), 40), ((',', 'for', 'the'), 39), ((\"'\", 's', 'head'), 39), ((';', 'and', ','), 39), (('boat', \"'\", 's'), 39), (('the', 'whale', '-'), 38), ((',\"', 'said', 'I'), 38), (('I', 'don', \"'\"), 37), (('said', 'I', ','), 37), (('of', 'the', 'ship'), 36), ((',', 'who', ','), 36), ((',', 'and', 'so'), 36), ((',', 'Mr', '.'), 35), (('mast', '-', 'heads'), 34), ((';', 'and', 'so'), 34), (('.', 'But', ','), 34), ((';', 'so', 'that'), 34), (('\"', 'Aye', ','), 34), (('.', '\"', 'The'), 33), (('It', \"'\", 's'), 33), ((',', 'the', 'whale'), 33), (('in', 'the', 'sea'), 32), (('of', 'it', ','), 32), ((',', 'and', 'all'), 32), ((',', 'I', \"'\"), 32), (('of', 'the', 'Pequod'), 32), (('the', 'old', 'man'), 32), (('that', 'is', ','), 31), ((',', 'as', 'it'), 31), ((',', 'on', 'the'), 31), ((',', 'indeed', ','), 31), (('.', 'Oh', ','), 31), (('of', 'the', 'boat'), 30), ((',', 'and', 'he'), 30), (('won', \"'\", 't'), 30), (('.', 'So', ','), 30), ((',', 'to', 'the'), 30), ((',', 'like', 'the'), 30), ((';', 'and', 'when'), 30)]\n",
            "Top 100 trigrams in text2: [(('Mrs', '.', 'Jennings'), 230), (('Mrs', '.', 'Dashwood'), 121), ((',', 'however', ','), 88), ((',', 'and', 'the'), 87), (('.', 'Mrs', '.'), 80), (('Mrs', '.', 'Ferrars'), 75), (('.', 'Jennings', ','), 74), (('Marianne', \"'\", 's'), 73), (('I', 'am', 'sure'), 72), (('.\"', '\"', 'I'), 68), (('.', '\"', 'I'), 64), (('Elinor', \"'\", 's'), 62), ((',', 'and', 'I'), 58), (('in', 'the', 'world'), 57), (('.', 'It', 'was'), 55), (('of', 'Mrs', '.'), 55), (('as', 'soon', 'as'), 53), (('sister', \"'\", 's'), 53), ((',\"', 'said', 'Elinor'), 53), (('Elinor', ',', '\"'), 53), ((',', 'and', 'she'), 52), ((',', '\"', 'I'), 48), (('mother', \"'\", 's'), 46), (('I', 'do', 'not'), 45), (('\"', 'I', 'am'), 44), (('Edward', \"'\", 's'), 43), ((',', 'with', 'a'), 43), (('could', 'not', 'be'), 42), (('and', 'Mrs', '.'), 41), ((',', 'my', 'dear'), 41), (('said', 'Elinor', ','), 41), (('.', 'She', 'was'), 40), ((',', 'as', 'she'), 40), (('.', 'I', 'have'), 39), (('Mr', '.', 'Willoughby'), 39), ((\"'\", 's', ','), 39), ((',', 'it', 'was'), 38), (('Mrs', '.', 'Palmer'), 38), ((',', 'she', 'was'), 37), (('Mr', '.', 'Palmer'), 37), (('her', 'sister', \"'\"), 36), (('would', 'have', 'been'), 36), ((',', 'and', 'to'), 35), ((',', 'and', 'her'), 35), ((',', 'in', 'a'), 35), (('.', 'Dashwood', ','), 35), ((',', 'and', 'in'), 35), (('Willoughby', \"'\", 's'), 35), ((',', 'and', 'a'), 34), (('I', 'dare', 'say'), 34), ((';', 'and', 'I'), 34), ((',', 'that', 'she'), 34), (('to', 'her', ','), 34), ((';', 'and', 'the'), 33), ((',\"', 'said', 'she'), 33), ((',', 'I', 'am'), 33), (('in', 'spite', 'of'), 33), ((',\"', 'said', 'he'), 33), ((',', '\"', 'that'), 32), ((';', 'and', 'she'), 32), ((',', 'and', 'that'), 32), (('.', 'Jennings', \"'\"), 32), (('ma', \"'\", 'am'), 32), ((',', 'to', 'be'), 31), (('.', 'I', 'am'), 31), (('she', 'could', 'not'), 31), (('Jennings', \"'\", 's'), 31), (('-', 'in', '-'), 30), (('in', '-', 'law'), 30), (('.', 'John', 'Dashwood'), 30), (('.\"', '\"', 'You'), 30), ((',', 'ma', \"'\"), 30), (('Mr', '.', 'Ferrars'), 30), ((',', 'and', 'his'), 29), ((',', 'therefore', ','), 29), (('said', 'she', ','), 29), (('\"', 'I', 'have'), 29), (('?\"', '\"', 'I'), 29), ((';', 'and', 'Elinor'), 29), (('said', 'Mrs', '.'), 29), (('said', 'he', ','), 29), (('her', 'sister', ','), 29), (('her', ',', 'and'), 29), ((',', 'and', ','), 28), (('Colonel', 'Brandon', ','), 28), ((',', 'in', 'the'), 27), (('it', 'would', 'be'), 27), (('to', 'Mrs', '.'), 27), (('of', 'it', '.'), 27), (('of', 'it', ','), 27), ((',', 'who', 'had'), 27), (('.', 'It', 'is'), 26), (('the', 'house', ','), 26), ((',', 'as', 'I'), 26), (('\"', 'No', ','), 26), (('Lucy', \"'\", 's'), 26), ((',', 'and', 'he'), 25), (('the', 'rest', 'of'), 25), (('Mrs', '.', 'John'), 25), (('that', 'she', 'had'), 25)]\n"
          ]
        }
      ]
    },
    {
      "cell_type": "code",
      "source": [],
      "metadata": {
        "id": "hOrNt1vUDl37"
      },
      "execution_count": null,
      "outputs": []
    }
  ]
}